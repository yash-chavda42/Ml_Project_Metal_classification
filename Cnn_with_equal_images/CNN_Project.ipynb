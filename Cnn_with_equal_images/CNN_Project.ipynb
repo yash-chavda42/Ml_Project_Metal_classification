{
  "nbformat": 4,
  "nbformat_minor": 0,
  "metadata": {
    "colab": {
      "name": "CNN_Project.ipynb",
      "provenance": []
    },
    "kernelspec": {
      "name": "python3",
      "display_name": "Python 3"
    },
    "language_info": {
      "name": "python"
    },
    "accelerator": "GPU"
  },
  "cells": [
    {
      "cell_type": "code",
      "execution_count": null,
      "metadata": {
        "id": "g1YZ3PkMfzwm"
      },
      "outputs": [],
      "source": [
        "#import libraries\n",
        "import cv2\n",
        "import numpy as np\n",
        "import pandas as pd\n",
        "import matplotlib.pyplot as plt\n",
        "import keras\n",
        "from keras.datasets import fashion_mnist #\n",
        "import keras.models as models\n",
        "import keras.layers as layers\n",
        "from keras import regularizers\n",
        "from keras.layers import Dropout"
      ]
    },
    {
      "cell_type": "code",
      "source": [
        "#from keras.engine.sequential import Sequential\n",
        "#tensor flow-> layers\n",
        "import tensorflow as tf\n",
        "from tensorflow.keras.models import Sequential,Model ##squnce of process\n",
        "from tensorflow.keras.layers import Dense,Activation,Flatten,Dropout,Conv2D,MaxPooling2D   #bipertate graph \n",
        "from keras.layers.advanced_activations import LeakyReLU\n",
        "from tensorflow.keras.utils import to_categorical #for catagorical data"
      ],
      "metadata": {
        "id": "Ab96b5P0zKwo"
      },
      "execution_count": null,
      "outputs": []
    },
    {
      "cell_type": "code",
      "source": [
        "from google.colab import drive"
      ],
      "metadata": {
        "id": "unsDg31BgzqU"
      },
      "execution_count": null,
      "outputs": []
    },
    {
      "cell_type": "code",
      "source": [
        "drive.mount('/content/drive')"
      ],
      "metadata": {
        "colab": {
          "base_uri": "https://localhost:8080/"
        },
        "id": "OfEel4pyg5pv",
        "outputId": "cba52b70-477d-4a99-c41d-bd06a5391fa6"
      },
      "execution_count": null,
      "outputs": [
        {
          "output_type": "stream",
          "name": "stdout",
          "text": [
            "Mounted at /content/drive\n"
          ]
        }
      ]
    },
    {
      "cell_type": "code",
      "source": [
        "cd /content/drive/\"MyDrive/dataset_ml/Train_set\""
      ],
      "metadata": {
        "colab": {
          "base_uri": "https://localhost:8080/"
        },
        "id": "FCN5pWWEhNuX",
        "outputId": "512d264a-0c3b-4498-843b-ce785ecedf83"
      },
      "execution_count": null,
      "outputs": [
        {
          "output_type": "stream",
          "name": "stdout",
          "text": [
            "/content/drive/MyDrive/dataset_ml/Train_set\n"
          ]
        }
      ]
    },
    {
      "cell_type": "code",
      "source": [
        "dataset = pd.read_csv('train.csv')\n",
        "dataset.shape"
      ],
      "metadata": {
        "colab": {
          "base_uri": "https://localhost:8080/"
        },
        "id": "kfNXjHPOg57C",
        "outputId": "ccd269e7-27ac-40e9-fe0e-cdf83d3a1662"
      },
      "execution_count": null,
      "outputs": [
        {
          "output_type": "execute_result",
          "data": {
            "text/plain": [
              "(7095, 3)"
            ]
          },
          "metadata": {},
          "execution_count": 6
        }
      ]
    },
    {
      "cell_type": "code",
      "source": [
        "dataset"
      ],
      "metadata": {
        "colab": {
          "base_uri": "https://localhost:8080/",
          "height": 423
        },
        "id": "5-ij5weQhFCW",
        "outputId": "25d4b632-1881-4d2e-df27-b245c2db40e7"
      },
      "execution_count": null,
      "outputs": [
        {
          "output_type": "execute_result",
          "data": {
            "text/plain": [
              "            ImageId  ClassId  \\\n",
              "0     0002cc93b.jpg        1   \n",
              "1     0007a71bf.jpg        3   \n",
              "2     000a4bcdd.jpg        1   \n",
              "3     000f6bf48.jpg        4   \n",
              "4     0014fce06.jpg        3   \n",
              "...             ...      ...   \n",
              "7090  ffcf72ecf.jpg        3   \n",
              "7091  fff02e9c5.jpg        3   \n",
              "7092  fffe98443.jpg        3   \n",
              "7093  ffff4eaa8.jpg        3   \n",
              "7094  ffffd67df.jpg        3   \n",
              "\n",
              "                                          EncodedPixels  \n",
              "0     29102 12 29346 24 29602 24 29858 24 30114 24 3...  \n",
              "1     18661 28 18863 82 19091 110 19347 110 19603 11...  \n",
              "2     37607 3 37858 8 38108 14 38359 20 38610 25 388...  \n",
              "3     131973 1 132228 4 132483 6 132738 8 132993 11 ...  \n",
              "4     229501 11 229741 33 229981 55 230221 77 230468...  \n",
              "...                                                 ...  \n",
              "7090  121911 34 122167 101 122422 169 122678 203 122...  \n",
              "7091  207523 3 207777 9 208030 15 208283 22 208537 2...  \n",
              "7092  105929 5 106177 14 106424 24 106672 33 106923 ...  \n",
              "7093  16899 7 17155 20 17411 34 17667 47 17923 60 18...  \n",
              "7094  30931 43 31103 127 31275 211 31489 253 31745 2...  \n",
              "\n",
              "[7095 rows x 3 columns]"
            ],
            "text/html": [
              "\n",
              "  <div id=\"df-e4c20c45-8d83-481f-9230-f3d08bc56d5c\">\n",
              "    <div class=\"colab-df-container\">\n",
              "      <div>\n",
              "<style scoped>\n",
              "    .dataframe tbody tr th:only-of-type {\n",
              "        vertical-align: middle;\n",
              "    }\n",
              "\n",
              "    .dataframe tbody tr th {\n",
              "        vertical-align: top;\n",
              "    }\n",
              "\n",
              "    .dataframe thead th {\n",
              "        text-align: right;\n",
              "    }\n",
              "</style>\n",
              "<table border=\"1\" class=\"dataframe\">\n",
              "  <thead>\n",
              "    <tr style=\"text-align: right;\">\n",
              "      <th></th>\n",
              "      <th>ImageId</th>\n",
              "      <th>ClassId</th>\n",
              "      <th>EncodedPixels</th>\n",
              "    </tr>\n",
              "  </thead>\n",
              "  <tbody>\n",
              "    <tr>\n",
              "      <th>0</th>\n",
              "      <td>0002cc93b.jpg</td>\n",
              "      <td>1</td>\n",
              "      <td>29102 12 29346 24 29602 24 29858 24 30114 24 3...</td>\n",
              "    </tr>\n",
              "    <tr>\n",
              "      <th>1</th>\n",
              "      <td>0007a71bf.jpg</td>\n",
              "      <td>3</td>\n",
              "      <td>18661 28 18863 82 19091 110 19347 110 19603 11...</td>\n",
              "    </tr>\n",
              "    <tr>\n",
              "      <th>2</th>\n",
              "      <td>000a4bcdd.jpg</td>\n",
              "      <td>1</td>\n",
              "      <td>37607 3 37858 8 38108 14 38359 20 38610 25 388...</td>\n",
              "    </tr>\n",
              "    <tr>\n",
              "      <th>3</th>\n",
              "      <td>000f6bf48.jpg</td>\n",
              "      <td>4</td>\n",
              "      <td>131973 1 132228 4 132483 6 132738 8 132993 11 ...</td>\n",
              "    </tr>\n",
              "    <tr>\n",
              "      <th>4</th>\n",
              "      <td>0014fce06.jpg</td>\n",
              "      <td>3</td>\n",
              "      <td>229501 11 229741 33 229981 55 230221 77 230468...</td>\n",
              "    </tr>\n",
              "    <tr>\n",
              "      <th>...</th>\n",
              "      <td>...</td>\n",
              "      <td>...</td>\n",
              "      <td>...</td>\n",
              "    </tr>\n",
              "    <tr>\n",
              "      <th>7090</th>\n",
              "      <td>ffcf72ecf.jpg</td>\n",
              "      <td>3</td>\n",
              "      <td>121911 34 122167 101 122422 169 122678 203 122...</td>\n",
              "    </tr>\n",
              "    <tr>\n",
              "      <th>7091</th>\n",
              "      <td>fff02e9c5.jpg</td>\n",
              "      <td>3</td>\n",
              "      <td>207523 3 207777 9 208030 15 208283 22 208537 2...</td>\n",
              "    </tr>\n",
              "    <tr>\n",
              "      <th>7092</th>\n",
              "      <td>fffe98443.jpg</td>\n",
              "      <td>3</td>\n",
              "      <td>105929 5 106177 14 106424 24 106672 33 106923 ...</td>\n",
              "    </tr>\n",
              "    <tr>\n",
              "      <th>7093</th>\n",
              "      <td>ffff4eaa8.jpg</td>\n",
              "      <td>3</td>\n",
              "      <td>16899 7 17155 20 17411 34 17667 47 17923 60 18...</td>\n",
              "    </tr>\n",
              "    <tr>\n",
              "      <th>7094</th>\n",
              "      <td>ffffd67df.jpg</td>\n",
              "      <td>3</td>\n",
              "      <td>30931 43 31103 127 31275 211 31489 253 31745 2...</td>\n",
              "    </tr>\n",
              "  </tbody>\n",
              "</table>\n",
              "<p>7095 rows × 3 columns</p>\n",
              "</div>\n",
              "      <button class=\"colab-df-convert\" onclick=\"convertToInteractive('df-e4c20c45-8d83-481f-9230-f3d08bc56d5c')\"\n",
              "              title=\"Convert this dataframe to an interactive table.\"\n",
              "              style=\"display:none;\">\n",
              "        \n",
              "  <svg xmlns=\"http://www.w3.org/2000/svg\" height=\"24px\"viewBox=\"0 0 24 24\"\n",
              "       width=\"24px\">\n",
              "    <path d=\"M0 0h24v24H0V0z\" fill=\"none\"/>\n",
              "    <path d=\"M18.56 5.44l.94 2.06.94-2.06 2.06-.94-2.06-.94-.94-2.06-.94 2.06-2.06.94zm-11 1L8.5 8.5l.94-2.06 2.06-.94-2.06-.94L8.5 2.5l-.94 2.06-2.06.94zm10 10l.94 2.06.94-2.06 2.06-.94-2.06-.94-.94-2.06-.94 2.06-2.06.94z\"/><path d=\"M17.41 7.96l-1.37-1.37c-.4-.4-.92-.59-1.43-.59-.52 0-1.04.2-1.43.59L10.3 9.45l-7.72 7.72c-.78.78-.78 2.05 0 2.83L4 21.41c.39.39.9.59 1.41.59.51 0 1.02-.2 1.41-.59l7.78-7.78 2.81-2.81c.8-.78.8-2.07 0-2.86zM5.41 20L4 18.59l7.72-7.72 1.47 1.35L5.41 20z\"/>\n",
              "  </svg>\n",
              "      </button>\n",
              "      \n",
              "  <style>\n",
              "    .colab-df-container {\n",
              "      display:flex;\n",
              "      flex-wrap:wrap;\n",
              "      gap: 12px;\n",
              "    }\n",
              "\n",
              "    .colab-df-convert {\n",
              "      background-color: #E8F0FE;\n",
              "      border: none;\n",
              "      border-radius: 50%;\n",
              "      cursor: pointer;\n",
              "      display: none;\n",
              "      fill: #1967D2;\n",
              "      height: 32px;\n",
              "      padding: 0 0 0 0;\n",
              "      width: 32px;\n",
              "    }\n",
              "\n",
              "    .colab-df-convert:hover {\n",
              "      background-color: #E2EBFA;\n",
              "      box-shadow: 0px 1px 2px rgba(60, 64, 67, 0.3), 0px 1px 3px 1px rgba(60, 64, 67, 0.15);\n",
              "      fill: #174EA6;\n",
              "    }\n",
              "\n",
              "    [theme=dark] .colab-df-convert {\n",
              "      background-color: #3B4455;\n",
              "      fill: #D2E3FC;\n",
              "    }\n",
              "\n",
              "    [theme=dark] .colab-df-convert:hover {\n",
              "      background-color: #434B5C;\n",
              "      box-shadow: 0px 1px 3px 1px rgba(0, 0, 0, 0.15);\n",
              "      filter: drop-shadow(0px 1px 2px rgba(0, 0, 0, 0.3));\n",
              "      fill: #FFFFFF;\n",
              "    }\n",
              "  </style>\n",
              "\n",
              "      <script>\n",
              "        const buttonEl =\n",
              "          document.querySelector('#df-e4c20c45-8d83-481f-9230-f3d08bc56d5c button.colab-df-convert');\n",
              "        buttonEl.style.display =\n",
              "          google.colab.kernel.accessAllowed ? 'block' : 'none';\n",
              "\n",
              "        async function convertToInteractive(key) {\n",
              "          const element = document.querySelector('#df-e4c20c45-8d83-481f-9230-f3d08bc56d5c');\n",
              "          const dataTable =\n",
              "            await google.colab.kernel.invokeFunction('convertToInteractive',\n",
              "                                                     [key], {});\n",
              "          if (!dataTable) return;\n",
              "\n",
              "          const docLinkHtml = 'Like what you see? Visit the ' +\n",
              "            '<a target=\"_blank\" href=https://colab.research.google.com/notebooks/data_table.ipynb>data table notebook</a>'\n",
              "            + ' to learn more about interactive tables.';\n",
              "          element.innerHTML = '';\n",
              "          dataTable['output_type'] = 'display_data';\n",
              "          await google.colab.output.renderOutput(dataTable, element);\n",
              "          const docLink = document.createElement('div');\n",
              "          docLink.innerHTML = docLinkHtml;\n",
              "          element.appendChild(docLink);\n",
              "        }\n",
              "      </script>\n",
              "    </div>\n",
              "  </div>\n",
              "  "
            ]
          },
          "metadata": {},
          "execution_count": 7
        }
      ]
    },
    {
      "cell_type": "code",
      "source": [
        "data=dataset.values[:7095,0:2]#5000 image for train\n",
        "print(data.shape)\n",
        "data"
      ],
      "metadata": {
        "colab": {
          "base_uri": "https://localhost:8080/"
        },
        "id": "GmVuMMOThmft",
        "outputId": "a32f0ff5-b4c4-41d1-db87-66da60a148a2"
      },
      "execution_count": null,
      "outputs": [
        {
          "output_type": "stream",
          "name": "stdout",
          "text": [
            "(7095, 2)\n"
          ]
        },
        {
          "output_type": "execute_result",
          "data": {
            "text/plain": [
              "array([['0002cc93b.jpg', 1],\n",
              "       ['0007a71bf.jpg', 3],\n",
              "       ['000a4bcdd.jpg', 1],\n",
              "       ...,\n",
              "       ['fffe98443.jpg', 3],\n",
              "       ['ffff4eaa8.jpg', 3],\n",
              "       ['ffffd67df.jpg', 3]], dtype=object)"
            ]
          },
          "metadata": {},
          "execution_count": 8
        }
      ]
    },
    {
      "cell_type": "code",
      "source": [
        "#code for taking class 2 only\n",
        "i=0\n",
        "j=0\n",
        "k=0\n",
        "democlasses=[]\n",
        "demoimage=[]\n",
        "while(i!=245):\n",
        "  if(data[j][1]==2):\n",
        "    democlasses.append(data[j][1])\n",
        "    demoimage.append(data[j][0])\n",
        "    i+=1\n",
        "    j+=1\n",
        "  else:\n",
        "    j+=1\n",
        "\n",
        "#code for taking class 1 only\n",
        "i=0\n",
        "j=0\n",
        "while(i!=245):\n",
        "  if(data[j][1]==1):\n",
        "    democlasses.append(data[j][1])\n",
        "    demoimage.append(data[j][0])\n",
        "    i+=1\n",
        "    j+=1\n",
        "  else:\n",
        "    j+=1\n",
        "\n",
        "#code for taking class 3 only\n",
        "i=0\n",
        "j=0\n",
        "while(i!=245):\n",
        "  if(data[j][1]==3):\n",
        "    democlasses.append(data[j][1])\n",
        "    demoimage.append(data[j][0])\n",
        "    i+=1\n",
        "    j+=1\n",
        "  else:\n",
        "    j+=1\n",
        "\n",
        "#code for taking class 4 only\n",
        "i=0\n",
        "j=0\n",
        "while(i!=245):\n",
        "  if(data[j][1]==4):\n",
        "    democlasses.append(data[j][1])\n",
        "    demoimage.append(data[j][0])\n",
        "    i+=1\n",
        "    j+=1\n",
        "  else:\n",
        "    j+=1"
      ],
      "metadata": {
        "id": "RdQeplbgtFAb"
      },
      "execution_count": null,
      "outputs": []
    },
    {
      "cell_type": "code",
      "source": [
        "#democlasses = np.array(democlasses)\n",
        "print(len(demoimage))\n",
        "print(type(democlasses))\n",
        "print(len(democlasses))"
      ],
      "metadata": {
        "colab": {
          "base_uri": "https://localhost:8080/"
        },
        "id": "RBuUt1Sltt8p",
        "outputId": "d7d6fc41-3484-41ec-ad39-d11d362f1e91"
      },
      "execution_count": null,
      "outputs": [
        {
          "output_type": "stream",
          "name": "stdout",
          "text": [
            "980\n",
            "<class 'list'>\n",
            "980\n"
          ]
        }
      ]
    },
    {
      "cell_type": "code",
      "source": [
        "image=[]\n",
        "classes=[]\n",
        "for i in range(980):\n",
        "  img=cv2.imread(data[i][0])#read 5000 setof image\n",
        "  img2=cv2.cvtColor(img,cv2.COLOR_BGR2GRAY)\n",
        "  image.append(img2)#append all the image in imge\n",
        "  classes.append(data[i][1])#append all the class in classes\n",
        "\n",
        "#px.imshow(img2,binary_string=True)\n",
        "print(type(image))\n",
        "print(type(classes))\n",
        "image=np.array(image)\n",
        "classes=np.array(classes)\n",
        "print(type(image))\n",
        "print(type(classes))\n",
        "image"
      ],
      "metadata": {
        "colab": {
          "base_uri": "https://localhost:8080/"
        },
        "id": "NLY3KCqHhFUY",
        "outputId": "91d34159-8ad3-4684-f0c3-c599b23007b1"
      },
      "execution_count": null,
      "outputs": [
        {
          "output_type": "stream",
          "name": "stdout",
          "text": [
            "<class 'list'>\n",
            "<class 'list'>\n",
            "<class 'numpy.ndarray'>\n",
            "<class 'numpy.ndarray'>\n"
          ]
        },
        {
          "output_type": "execute_result",
          "data": {
            "text/plain": [
              "array([[[ 70,  70,  68, ...,  48,  48,  50],\n",
              "        [ 66,  68,  68, ...,  48,  49,  51],\n",
              "        [ 61,  64,  65, ...,  49,  51,  54],\n",
              "        ...,\n",
              "        [155, 133, 131, ...,  51,  51,  50],\n",
              "        [160, 111, 100, ...,  55,  54,  48],\n",
              "        [155, 114,  98, ...,  58,  58,  50]],\n",
              "\n",
              "       [[ 47,  49,  49, ...,  65,  67,  63],\n",
              "        [ 49,  51,  52, ...,  64,  66,  67],\n",
              "        [ 49,  51,  51, ...,  61,  62,  67],\n",
              "        ...,\n",
              "        [106, 109, 100, ...,  98,  86,  85],\n",
              "        [103, 110, 106, ...,  86,  85,  85],\n",
              "        [103, 111, 107, ...,  83,  90,  90]],\n",
              "\n",
              "       [[ 52,  51,  51, ...,  45,  45,  44],\n",
              "        [ 53,  50,  49, ...,  48,  48,  47],\n",
              "        [ 54,  51,  50, ...,  47,  47,  47],\n",
              "        ...,\n",
              "        [ 77,  78,  78, ...,  76,  75,  79],\n",
              "        [ 72,  79,  78, ...,  76,  75,  78],\n",
              "        [ 69,  79,  78, ...,  74,  74,  78]],\n",
              "\n",
              "       ...,\n",
              "\n",
              "       [[ 62,  69,  64, ...,  59,  57,  56],\n",
              "        [ 69,  68,  59, ...,  58,  58,  58],\n",
              "        [ 68,  69,  63, ...,  55,  54,  56],\n",
              "        ...,\n",
              "        [ 72,  75,  78, ...,  68,  69,  68],\n",
              "        [ 70,  71,  75, ...,  66,  65,  63],\n",
              "        [ 74,  71,  71, ...,  65,  65,  64]],\n",
              "\n",
              "       [[ 51,  53,  54, ...,   0,   0,   0],\n",
              "        [ 52,  53,  53, ...,   0,   0,   0],\n",
              "        [ 51,  52,  52, ...,   0,   0,   0],\n",
              "        ...,\n",
              "        [ 62,  62,  62, ...,   1,   1,   1],\n",
              "        [ 60,  59,  56, ...,   1,   1,   1],\n",
              "        [ 58,  59,  58, ...,   1,   1,   1]],\n",
              "\n",
              "       [[ 46,  46,  47, ...,  50,  49,  44],\n",
              "        [ 50,  50,  50, ...,  47,  49,  48],\n",
              "        [ 49,  49,  50, ...,  46,  47,  48],\n",
              "        ...,\n",
              "        [106, 110, 112, ..., 113, 116, 109],\n",
              "        [108, 112, 116, ..., 115, 120, 110],\n",
              "        [105, 108, 116, ..., 114, 119, 109]]], dtype=uint8)"
            ]
          },
          "metadata": {},
          "execution_count": 11
        }
      ]
    },
    {
      "cell_type": "code",
      "source": [
        "plt.imshow(image[0])\n",
        "print(image[0])"
      ],
      "metadata": {
        "colab": {
          "base_uri": "https://localhost:8080/",
          "height": 226
        },
        "id": "eYUCeNRou2Q3",
        "outputId": "4cf236c7-1bfa-4c9e-8cf9-b565d4065695"
      },
      "execution_count": null,
      "outputs": [
        {
          "output_type": "stream",
          "name": "stdout",
          "text": [
            "[[ 70  70  68 ...  48  48  50]\n",
            " [ 66  68  68 ...  48  49  51]\n",
            " [ 61  64  65 ...  49  51  54]\n",
            " ...\n",
            " [155 133 131 ...  51  51  50]\n",
            " [160 111 100 ...  55  54  48]\n",
            " [155 114  98 ...  58  58  50]]\n"
          ]
        },
        {
          "output_type": "display_data",
          "data": {
            "text/plain": [
              "<Figure size 432x288 with 1 Axes>"
            ],
            "image/png": "[encoded data removed]"
          },
          "metadata": {
            "needs_background": "light"
          }
        }
      ]
    },
    {
      "cell_type": "code",
      "source": [
        "#model training task\n",
        "#split into validation and train\n",
        "from sklearn.model_selection import train_test_split\n",
        "train_x,test_x,train_y,test_y=train_test_split(image,classes,test_size=0.2,random_state=13)"
      ],
      "metadata": {
        "id": "F2j7f_hFx2wF"
      },
      "execution_count": null,
      "outputs": []
    },
    {
      "cell_type": "code",
      "source": [
        "print(train_x.shape,train_y.shape)"
      ],
      "metadata": {
        "colab": {
          "base_uri": "https://localhost:8080/"
        },
        "id": "Llccm71Dhv2B",
        "outputId": "743cdbe5-f3ce-4a60-b9af-30fe1cc08fba"
      },
      "execution_count": null,
      "outputs": [
        {
          "output_type": "stream",
          "name": "stdout",
          "text": [
            "(784, 256, 1600) (784,)\n"
          ]
        }
      ]
    },
    {
      "cell_type": "code",
      "source": [
        "print(test_x.shape,test_y.shape)"
      ],
      "metadata": {
        "id": "NT7VKs7Nhega",
        "colab": {
          "base_uri": "https://localhost:8080/"
        },
        "outputId": "d49d746d-9f55-4113-f276-63f1764d812a"
      },
      "execution_count": null,
      "outputs": [
        {
          "output_type": "stream",
          "name": "stdout",
          "text": [
            "(196, 256, 1600) (196,)\n"
          ]
        }
      ]
    },
    {
      "cell_type": "code",
      "source": [
        "classes=np.unique(train_y)\n",
        "nclasses=len(classes)\n",
        "print(classes)\n",
        "print(nclasses)"
      ],
      "metadata": {
        "colab": {
          "base_uri": "https://localhost:8080/"
        },
        "id": "xCJYPawxh3uz",
        "outputId": "94f0c7d5-d747-4026-c803-e382f1f69563"
      },
      "execution_count": null,
      "outputs": [
        {
          "output_type": "stream",
          "name": "stdout",
          "text": [
            "[1 2 3 4]\n",
            "4\n"
          ]
        }
      ]
    },
    {
      "cell_type": "code",
      "source": [
        "classes=np.unique(test_y)\n",
        "nclasses=len(classes)\n",
        "print(classes)\n",
        "print(nclasses)"
      ],
      "metadata": {
        "colab": {
          "base_uri": "https://localhost:8080/"
        },
        "id": "0hwnf8H2QBKP",
        "outputId": "fb75cb50-2631-420e-d82c-077572f0a251"
      },
      "execution_count": null,
      "outputs": [
        {
          "output_type": "stream",
          "name": "stdout",
          "text": [
            "[1 2 3 4]\n",
            "4\n"
          ]
        }
      ]
    },
    {
      "cell_type": "code",
      "source": [
        "#reshape image\n",
        "train_x=train_x.reshape(-1,256,1600,1)\n",
        "test_x=test_x.reshape(-1,256,1600,1)\n"
      ],
      "metadata": {
        "id": "aDYx194rh4d-"
      },
      "execution_count": null,
      "outputs": []
    },
    {
      "cell_type": "code",
      "source": [
        "\n",
        "\n",
        "print(train_x.shape,train_y.shape)\n",
        "print(test_x.shape,test_y.shape)"
      ],
      "metadata": {
        "colab": {
          "base_uri": "https://localhost:8080/"
        },
        "id": "EEjSL5IFypv6",
        "outputId": "69d1ba25-346a-4713-8f41-a8a0c448b5cf"
      },
      "execution_count": null,
      "outputs": [
        {
          "output_type": "stream",
          "name": "stdout",
          "text": [
            "(784, 256, 1600, 1) (784,)\n",
            "(196, 256, 1600, 1) (196,)\n"
          ]
        }
      ]
    },
    {
      "cell_type": "code",
      "source": [
        "train_y.shape[0]"
      ],
      "metadata": {
        "colab": {
          "base_uri": "https://localhost:8080/"
        },
        "id": "M08dIps-vbG-",
        "outputId": "968b34c3-1f99-4b79-9c4c-a370b92c0bb9"
      },
      "execution_count": null,
      "outputs": [
        {
          "output_type": "execute_result",
          "data": {
            "text/plain": [
              "784"
            ]
          },
          "metadata": {},
          "execution_count": 19
        }
      ]
    },
    {
      "cell_type": "code",
      "source": [
        "#converting value 0-1\n",
        "#type convertion to avoid integer\n",
        "train_x=train_x.astype('float32')\n",
        "test_x=test_x.astype('float32')\n",
        "train_x=train_x/255\n",
        "test_x=test_x/255"
      ],
      "metadata": {
        "id": "JUhMjCeuyuU7"
      },
      "execution_count": null,
      "outputs": []
    },
    {
      "cell_type": "code",
      "source": [
        "train_x"
      ],
      "metadata": {
        "colab": {
          "base_uri": "https://localhost:8080/"
        },
        "id": "JvGEeYHRy0tA",
        "outputId": "0050c302-a476-4930-e9c9-62987fdf9887"
      },
      "execution_count": null,
      "outputs": [
        {
          "output_type": "execute_result",
          "data": {
            "text/plain": [
              "array([[[[0.44705883],\n",
              "         [0.43137255],\n",
              "         [0.4117647 ],\n",
              "         ...,\n",
              "         [0.21568628],\n",
              "         [0.21176471],\n",
              "         [0.21960784]],\n",
              "\n",
              "        [[0.3647059 ],\n",
              "         [0.3529412 ],\n",
              "         [0.3254902 ],\n",
              "         ...,\n",
              "         [0.24313726],\n",
              "         [0.23529412],\n",
              "         [0.23921569]],\n",
              "\n",
              "        [[0.33333334],\n",
              "         [0.3647059 ],\n",
              "         [0.36862746],\n",
              "         ...,\n",
              "         [0.24705882],\n",
              "         [0.22745098],\n",
              "         [0.22352941]],\n",
              "\n",
              "        ...,\n",
              "\n",
              "        [[0.56078434],\n",
              "         [0.57254905],\n",
              "         [0.5647059 ],\n",
              "         ...,\n",
              "         [0.4117647 ],\n",
              "         [0.41960785],\n",
              "         [0.3882353 ]],\n",
              "\n",
              "        [[0.5294118 ],\n",
              "         [0.54901963],\n",
              "         [0.5254902 ],\n",
              "         ...,\n",
              "         [0.4509804 ],\n",
              "         [0.48235294],\n",
              "         [0.42745098]],\n",
              "\n",
              "        [[0.52156866],\n",
              "         [0.54901963],\n",
              "         [0.49803922],\n",
              "         ...,\n",
              "         [0.44313726],\n",
              "         [0.48235294],\n",
              "         [0.41568628]]],\n",
              "\n",
              "\n",
              "       [[[0.01568628],\n",
              "         [0.01568628],\n",
              "         [0.01568628],\n",
              "         ...,\n",
              "         [0.1254902 ],\n",
              "         [0.12156863],\n",
              "         [0.12156863]],\n",
              "\n",
              "        [[0.01568628],\n",
              "         [0.01568628],\n",
              "         [0.01568628],\n",
              "         ...,\n",
              "         [0.13333334],\n",
              "         [0.13333334],\n",
              "         [0.13333334]],\n",
              "\n",
              "        [[0.01568628],\n",
              "         [0.01568628],\n",
              "         [0.01568628],\n",
              "         ...,\n",
              "         [0.12941177],\n",
              "         [0.12941177],\n",
              "         [0.13333334]],\n",
              "\n",
              "        ...,\n",
              "\n",
              "        [[0.03137255],\n",
              "         [0.03137255],\n",
              "         [0.03137255],\n",
              "         ...,\n",
              "         [0.3137255 ],\n",
              "         [0.29803923],\n",
              "         [0.32156864]],\n",
              "\n",
              "        [[0.02745098],\n",
              "         [0.03137255],\n",
              "         [0.03137255],\n",
              "         ...,\n",
              "         [0.3137255 ],\n",
              "         [0.3019608 ],\n",
              "         [0.34509805]],\n",
              "\n",
              "        [[0.02745098],\n",
              "         [0.02745098],\n",
              "         [0.03137255],\n",
              "         ...,\n",
              "         [0.30588236],\n",
              "         [0.2901961 ],\n",
              "         [0.3372549 ]]],\n",
              "\n",
              "\n",
              "       [[[0.2       ],\n",
              "         [0.21568628],\n",
              "         [0.21176471],\n",
              "         ...,\n",
              "         [0.1882353 ],\n",
              "         [0.2       ],\n",
              "         [0.21960784]],\n",
              "\n",
              "        [[0.21568628],\n",
              "         [0.22352941],\n",
              "         [0.21176471],\n",
              "         ...,\n",
              "         [0.19215687],\n",
              "         [0.20392157],\n",
              "         [0.22352941]],\n",
              "\n",
              "        [[0.23529412],\n",
              "         [0.23137255],\n",
              "         [0.21568628],\n",
              "         ...,\n",
              "         [0.20392157],\n",
              "         [0.20784314],\n",
              "         [0.21568628]],\n",
              "\n",
              "        ...,\n",
              "\n",
              "        [[0.43529412],\n",
              "         [0.50980395],\n",
              "         [0.5176471 ],\n",
              "         ...,\n",
              "         [0.45490196],\n",
              "         [0.45490196],\n",
              "         [0.44313726]],\n",
              "\n",
              "        [[0.4       ],\n",
              "         [0.46666667],\n",
              "         [0.48235294],\n",
              "         ...,\n",
              "         [0.4392157 ],\n",
              "         [0.42352942],\n",
              "         [0.4       ]],\n",
              "\n",
              "        [[0.4117647 ],\n",
              "         [0.44705883],\n",
              "         [0.4627451 ],\n",
              "         ...,\n",
              "         [0.44313726],\n",
              "         [0.43137255],\n",
              "         [0.4117647 ]]],\n",
              "\n",
              "\n",
              "       ...,\n",
              "\n",
              "\n",
              "       [[[0.00392157],\n",
              "         [0.00392157],\n",
              "         [0.00392157],\n",
              "         ...,\n",
              "         [0.23921569],\n",
              "         [0.23921569],\n",
              "         [0.24313726]],\n",
              "\n",
              "        [[0.00392157],\n",
              "         [0.00392157],\n",
              "         [0.00392157],\n",
              "         ...,\n",
              "         [0.23529412],\n",
              "         [0.23529412],\n",
              "         [0.24313726]],\n",
              "\n",
              "        [[0.00392157],\n",
              "         [0.00392157],\n",
              "         [0.00392157],\n",
              "         ...,\n",
              "         [0.23529412],\n",
              "         [0.24313726],\n",
              "         [0.25490198]],\n",
              "\n",
              "        ...,\n",
              "\n",
              "        [[0.00392157],\n",
              "         [0.00392157],\n",
              "         [0.00392157],\n",
              "         ...,\n",
              "         [0.3647059 ],\n",
              "         [0.38039216],\n",
              "         [0.37254903]],\n",
              "\n",
              "        [[0.00784314],\n",
              "         [0.00784314],\n",
              "         [0.00784314],\n",
              "         ...,\n",
              "         [0.36862746],\n",
              "         [0.38431373],\n",
              "         [0.38039216]],\n",
              "\n",
              "        [[0.00784314],\n",
              "         [0.00784314],\n",
              "         [0.00784314],\n",
              "         ...,\n",
              "         [0.35686275],\n",
              "         [0.38431373],\n",
              "         [0.38431373]]],\n",
              "\n",
              "\n",
              "       [[[0.3529412 ],\n",
              "         [0.33333334],\n",
              "         [0.31764707],\n",
              "         ...,\n",
              "         [0.02745098],\n",
              "         [0.02745098],\n",
              "         [0.02745098]],\n",
              "\n",
              "        [[0.35686275],\n",
              "         [0.3372549 ],\n",
              "         [0.31764707],\n",
              "         ...,\n",
              "         [0.02745098],\n",
              "         [0.02745098],\n",
              "         [0.02745098]],\n",
              "\n",
              "        [[0.35686275],\n",
              "         [0.33333334],\n",
              "         [0.31764707],\n",
              "         ...,\n",
              "         [0.02745098],\n",
              "         [0.02745098],\n",
              "         [0.02745098]],\n",
              "\n",
              "        ...,\n",
              "\n",
              "        [[0.3529412 ],\n",
              "         [0.34509805],\n",
              "         [0.34509805],\n",
              "         ...,\n",
              "         [0.02352941],\n",
              "         [0.02352941],\n",
              "         [0.02352941]],\n",
              "\n",
              "        [[0.3647059 ],\n",
              "         [0.34901962],\n",
              "         [0.34509805],\n",
              "         ...,\n",
              "         [0.02352941],\n",
              "         [0.02352941],\n",
              "         [0.02352941]],\n",
              "\n",
              "        [[0.36862746],\n",
              "         [0.3529412 ],\n",
              "         [0.34509805],\n",
              "         ...,\n",
              "         [0.02352941],\n",
              "         [0.02352941],\n",
              "         [0.02352941]]],\n",
              "\n",
              "\n",
              "       [[[0.00392157],\n",
              "         [0.00392157],\n",
              "         [0.00392157],\n",
              "         ...,\n",
              "         [0.2509804 ],\n",
              "         [0.24313726],\n",
              "         [0.23529412]],\n",
              "\n",
              "        [[0.00392157],\n",
              "         [0.00392157],\n",
              "         [0.00392157],\n",
              "         ...,\n",
              "         [0.23921569],\n",
              "         [0.23921569],\n",
              "         [0.23921569]],\n",
              "\n",
              "        [[0.00392157],\n",
              "         [0.00392157],\n",
              "         [0.00392157],\n",
              "         ...,\n",
              "         [0.23921569],\n",
              "         [0.23921569],\n",
              "         [0.24313726]],\n",
              "\n",
              "        ...,\n",
              "\n",
              "        [[0.00392157],\n",
              "         [0.00392157],\n",
              "         [0.00392157],\n",
              "         ...,\n",
              "         [0.28627452],\n",
              "         [0.2901961 ],\n",
              "         [0.29803923]],\n",
              "\n",
              "        [[0.00392157],\n",
              "         [0.00392157],\n",
              "         [0.00392157],\n",
              "         ...,\n",
              "         [0.28627452],\n",
              "         [0.28627452],\n",
              "         [0.2901961 ]],\n",
              "\n",
              "        [[0.00392157],\n",
              "         [0.00392157],\n",
              "         [0.00392157],\n",
              "         ...,\n",
              "         [0.29411766],\n",
              "         [0.29411766],\n",
              "         [0.29411766]]]], dtype=float32)"
            ]
          },
          "metadata": {},
          "execution_count": 21
        }
      ]
    },
    {
      "cell_type": "code",
      "source": [
        "train_one_hot=to_categorical(train_y)\n",
        "test_one_hot=to_categorical(test_y)"
      ],
      "metadata": {
        "id": "87QV7vjQy5NJ"
      },
      "execution_count": null,
      "outputs": []
    },
    {
      "cell_type": "code",
      "source": [
        "print(train_one_hot[777])\n",
        "print(train_one_hot)"
      ],
      "metadata": {
        "colab": {
          "base_uri": "https://localhost:8080/"
        },
        "id": "ZkGKw0X47DNG",
        "outputId": "a8ebc494-20ad-44e8-a7fd-e26463dcab4a"
      },
      "execution_count": null,
      "outputs": [
        {
          "output_type": "stream",
          "name": "stdout",
          "text": [
            "[0. 0. 0. 0. 1.]\n",
            "[[0. 0. 0. 0. 1.]\n",
            " [0. 0. 0. 0. 1.]\n",
            " [0. 0. 0. 1. 0.]\n",
            " ...\n",
            " [0. 0. 0. 1. 0.]\n",
            " [0. 0. 0. 1. 0.]\n",
            " [0. 0. 0. 1. 0.]]\n"
          ]
        }
      ]
    },
    {
      "cell_type": "code",
      "source": [
        "train_y_one_hot = []\n",
        "#train_y_one_hot = np.append(train_y_one_hot, np.array([[11, 21, 31, 41]]), axis=0)\n",
        "print(train_y_one_hot)\n",
        "#train_y_one_hot=np.array(train_y_one_hot)\n",
        "test_y_one_hot=[]\n",
        "#test_y_one_hot=np.array(test_y_one_hot)\n"
      ],
      "metadata": {
        "colab": {
          "base_uri": "https://localhost:8080/"
        },
        "id": "PyjmBDxQwR1_",
        "outputId": "7d65fc9b-7538-4338-bd48-aa017727185d"
      },
      "execution_count": null,
      "outputs": [
        {
          "output_type": "stream",
          "name": "stdout",
          "text": [
            "[]\n"
          ]
        }
      ]
    },
    {
      "cell_type": "code",
      "source": [
        "for i in range(0,784):\n",
        "  train=np.delete(train_one_hot[i],0)\n",
        "  train_y_one_hot.append(train)\n",
        "  #train_y_one_hot = np.append(train_y_one_hot, train, axis=0)\n",
        "  #print(train)\n",
        "\n",
        "for i in range(0,196):\n",
        "  test=np.delete(test_one_hot[i],0)\n",
        "  test_y_one_hot.append(test)\n",
        "  #train_y_one_hot = np.append(train_y_one_hot, train, axis=0)\n",
        "  #print(train)\n",
        "\n",
        "\n",
        "\n"
      ],
      "metadata": {
        "id": "47X8onpZudr6"
      },
      "execution_count": null,
      "outputs": []
    },
    {
      "cell_type": "code",
      "source": [
        "train_y_one_hot"
      ],
      "metadata": {
        "colab": {
          "base_uri": "https://localhost:8080/"
        },
        "id": "qCg8UnQJ112P",
        "outputId": "9d6e3f60-24fe-4fe5-eb53-89fc1baf866e"
      },
      "execution_count": null,
      "outputs": [
        {
          "output_type": "execute_result",
          "data": {
            "text/plain": [
              "[array([0., 0., 0., 1.], dtype=float32),\n",
              " array([0., 0., 0., 1.], dtype=float32),\n",
              " array([0., 0., 1., 0.], dtype=float32),\n",
              " array([0., 0., 1., 0.], dtype=float32),\n",
              " array([0., 0., 1., 0.], dtype=float32),\n",
              " array([0., 0., 1., 0.], dtype=float32),\n",
              " array([0., 0., 1., 0.], dtype=float32),\n",
              " array([1., 0., 0., 0.], dtype=float32),\n",
              " array([0., 0., 1., 0.], dtype=float32),\n",
              " array([0., 0., 1., 0.], dtype=float32),\n",
              " array([0., 0., 1., 0.], dtype=float32),\n",
              " array([0., 0., 0., 1.], dtype=float32),\n",
              " array([0., 0., 1., 0.], dtype=float32),\n",
              " array([0., 0., 1., 0.], dtype=float32),\n",
              " array([0., 0., 1., 0.], dtype=float32),\n",
              " array([0., 0., 1., 0.], dtype=float32),\n",
              " array([1., 0., 0., 0.], dtype=float32),\n",
              " array([0., 0., 1., 0.], dtype=float32),\n",
              " array([0., 1., 0., 0.], dtype=float32),\n",
              " array([0., 0., 1., 0.], dtype=float32),\n",
              " array([0., 0., 1., 0.], dtype=float32),\n",
              " array([0., 0., 1., 0.], dtype=float32),\n",
              " array([0., 0., 1., 0.], dtype=float32),\n",
              " array([0., 0., 1., 0.], dtype=float32),\n",
              " array([0., 0., 0., 1.], dtype=float32),\n",
              " array([1., 0., 0., 0.], dtype=float32),\n",
              " array([0., 0., 0., 1.], dtype=float32),\n",
              " array([0., 0., 0., 1.], dtype=float32),\n",
              " array([0., 0., 1., 0.], dtype=float32),\n",
              " array([0., 0., 0., 1.], dtype=float32),\n",
              " array([0., 0., 1., 0.], dtype=float32),\n",
              " array([0., 0., 1., 0.], dtype=float32),\n",
              " array([0., 0., 0., 1.], dtype=float32),\n",
              " array([1., 0., 0., 0.], dtype=float32),\n",
              " array([0., 1., 0., 0.], dtype=float32),\n",
              " array([1., 0., 0., 0.], dtype=float32),\n",
              " array([0., 0., 1., 0.], dtype=float32),\n",
              " array([1., 0., 0., 0.], dtype=float32),\n",
              " array([0., 0., 1., 0.], dtype=float32),\n",
              " array([0., 0., 1., 0.], dtype=float32),\n",
              " array([0., 0., 1., 0.], dtype=float32),\n",
              " array([0., 0., 1., 0.], dtype=float32),\n",
              " array([0., 0., 1., 0.], dtype=float32),\n",
              " array([0., 0., 1., 0.], dtype=float32),\n",
              " array([0., 0., 1., 0.], dtype=float32),\n",
              " array([0., 0., 0., 1.], dtype=float32),\n",
              " array([0., 0., 1., 0.], dtype=float32),\n",
              " array([0., 0., 1., 0.], dtype=float32),\n",
              " array([0., 0., 1., 0.], dtype=float32),\n",
              " array([0., 0., 1., 0.], dtype=float32),\n",
              " array([0., 0., 1., 0.], dtype=float32),\n",
              " array([0., 0., 1., 0.], dtype=float32),\n",
              " array([0., 0., 1., 0.], dtype=float32),\n",
              " array([0., 0., 1., 0.], dtype=float32),\n",
              " array([0., 0., 1., 0.], dtype=float32),\n",
              " array([0., 0., 1., 0.], dtype=float32),\n",
              " array([0., 0., 1., 0.], dtype=float32),\n",
              " array([0., 0., 1., 0.], dtype=float32),\n",
              " array([0., 0., 1., 0.], dtype=float32),\n",
              " array([0., 0., 1., 0.], dtype=float32),\n",
              " array([0., 0., 1., 0.], dtype=float32),\n",
              " array([0., 0., 1., 0.], dtype=float32),\n",
              " array([1., 0., 0., 0.], dtype=float32),\n",
              " array([1., 0., 0., 0.], dtype=float32),\n",
              " array([0., 0., 1., 0.], dtype=float32),\n",
              " array([0., 0., 1., 0.], dtype=float32),\n",
              " array([0., 0., 1., 0.], dtype=float32),\n",
              " array([0., 0., 0., 1.], dtype=float32),\n",
              " array([1., 0., 0., 0.], dtype=float32),\n",
              " array([0., 0., 1., 0.], dtype=float32),\n",
              " array([0., 0., 1., 0.], dtype=float32),\n",
              " array([1., 0., 0., 0.], dtype=float32),\n",
              " array([0., 0., 1., 0.], dtype=float32),\n",
              " array([0., 0., 1., 0.], dtype=float32),\n",
              " array([0., 0., 1., 0.], dtype=float32),\n",
              " array([1., 0., 0., 0.], dtype=float32),\n",
              " array([0., 0., 1., 0.], dtype=float32),\n",
              " array([0., 0., 0., 1.], dtype=float32),\n",
              " array([0., 0., 0., 1.], dtype=float32),\n",
              " array([0., 0., 1., 0.], dtype=float32),\n",
              " array([0., 0., 1., 0.], dtype=float32),\n",
              " array([0., 0., 1., 0.], dtype=float32),\n",
              " array([0., 0., 1., 0.], dtype=float32),\n",
              " array([0., 0., 1., 0.], dtype=float32),\n",
              " array([0., 0., 1., 0.], dtype=float32),\n",
              " array([0., 1., 0., 0.], dtype=float32),\n",
              " array([1., 0., 0., 0.], dtype=float32),\n",
              " array([0., 0., 1., 0.], dtype=float32),\n",
              " array([0., 0., 1., 0.], dtype=float32),\n",
              " array([0., 0., 1., 0.], dtype=float32),\n",
              " array([0., 0., 1., 0.], dtype=float32),\n",
              " array([1., 0., 0., 0.], dtype=float32),\n",
              " array([0., 0., 1., 0.], dtype=float32),\n",
              " array([0., 0., 1., 0.], dtype=float32),\n",
              " array([0., 0., 1., 0.], dtype=float32),\n",
              " array([1., 0., 0., 0.], dtype=float32),\n",
              " array([0., 0., 1., 0.], dtype=float32),\n",
              " array([0., 0., 1., 0.], dtype=float32),\n",
              " array([0., 0., 0., 1.], dtype=float32),\n",
              " array([0., 0., 1., 0.], dtype=float32),\n",
              " array([0., 0., 1., 0.], dtype=float32),\n",
              " array([1., 0., 0., 0.], dtype=float32),\n",
              " array([0., 0., 1., 0.], dtype=float32),\n",
              " array([1., 0., 0., 0.], dtype=float32),\n",
              " array([0., 0., 1., 0.], dtype=float32),\n",
              " array([0., 0., 1., 0.], dtype=float32),\n",
              " array([0., 0., 1., 0.], dtype=float32),\n",
              " array([0., 0., 1., 0.], dtype=float32),\n",
              " array([0., 0., 1., 0.], dtype=float32),\n",
              " array([1., 0., 0., 0.], dtype=float32),\n",
              " array([1., 0., 0., 0.], dtype=float32),\n",
              " array([0., 0., 1., 0.], dtype=float32),\n",
              " array([0., 0., 1., 0.], dtype=float32),\n",
              " array([0., 0., 1., 0.], dtype=float32),\n",
              " array([0., 0., 1., 0.], dtype=float32),\n",
              " array([0., 0., 1., 0.], dtype=float32),\n",
              " array([0., 0., 1., 0.], dtype=float32),\n",
              " array([0., 0., 1., 0.], dtype=float32),\n",
              " array([0., 0., 1., 0.], dtype=float32),\n",
              " array([0., 0., 1., 0.], dtype=float32),\n",
              " array([0., 0., 1., 0.], dtype=float32),\n",
              " array([0., 0., 1., 0.], dtype=float32),\n",
              " array([0., 0., 1., 0.], dtype=float32),\n",
              " array([0., 0., 1., 0.], dtype=float32),\n",
              " array([0., 0., 1., 0.], dtype=float32),\n",
              " array([0., 0., 1., 0.], dtype=float32),\n",
              " array([1., 0., 0., 0.], dtype=float32),\n",
              " array([0., 0., 1., 0.], dtype=float32),\n",
              " array([0., 0., 1., 0.], dtype=float32),\n",
              " array([0., 0., 1., 0.], dtype=float32),\n",
              " array([0., 0., 1., 0.], dtype=float32),\n",
              " array([0., 0., 1., 0.], dtype=float32),\n",
              " array([0., 0., 1., 0.], dtype=float32),\n",
              " array([0., 1., 0., 0.], dtype=float32),\n",
              " array([0., 0., 1., 0.], dtype=float32),\n",
              " array([0., 0., 1., 0.], dtype=float32),\n",
              " array([0., 0., 1., 0.], dtype=float32),\n",
              " array([0., 0., 1., 0.], dtype=float32),\n",
              " array([0., 0., 1., 0.], dtype=float32),\n",
              " array([1., 0., 0., 0.], dtype=float32),\n",
              " array([0., 0., 1., 0.], dtype=float32),\n",
              " array([1., 0., 0., 0.], dtype=float32),\n",
              " array([0., 0., 1., 0.], dtype=float32),\n",
              " array([0., 0., 1., 0.], dtype=float32),\n",
              " array([0., 0., 1., 0.], dtype=float32),\n",
              " array([1., 0., 0., 0.], dtype=float32),\n",
              " array([0., 1., 0., 0.], dtype=float32),\n",
              " array([0., 0., 1., 0.], dtype=float32),\n",
              " array([0., 0., 0., 1.], dtype=float32),\n",
              " array([0., 0., 1., 0.], dtype=float32),\n",
              " array([0., 0., 1., 0.], dtype=float32),\n",
              " array([0., 0., 1., 0.], dtype=float32),\n",
              " array([1., 0., 0., 0.], dtype=float32),\n",
              " array([0., 0., 1., 0.], dtype=float32),\n",
              " array([0., 0., 1., 0.], dtype=float32),\n",
              " array([0., 0., 0., 1.], dtype=float32),\n",
              " array([0., 0., 1., 0.], dtype=float32),\n",
              " array([0., 0., 1., 0.], dtype=float32),\n",
              " array([0., 0., 1., 0.], dtype=float32),\n",
              " array([0., 0., 0., 1.], dtype=float32),\n",
              " array([0., 0., 0., 1.], dtype=float32),\n",
              " array([0., 0., 1., 0.], dtype=float32),\n",
              " array([0., 0., 1., 0.], dtype=float32),\n",
              " array([0., 0., 1., 0.], dtype=float32),\n",
              " array([0., 0., 0., 1.], dtype=float32),\n",
              " array([0., 0., 0., 1.], dtype=float32),\n",
              " array([0., 0., 1., 0.], dtype=float32),\n",
              " array([0., 0., 1., 0.], dtype=float32),\n",
              " array([0., 1., 0., 0.], dtype=float32),\n",
              " array([0., 0., 1., 0.], dtype=float32),\n",
              " array([0., 0., 1., 0.], dtype=float32),\n",
              " array([0., 0., 1., 0.], dtype=float32),\n",
              " array([0., 0., 0., 1.], dtype=float32),\n",
              " array([0., 0., 1., 0.], dtype=float32),\n",
              " array([0., 0., 1., 0.], dtype=float32),\n",
              " array([1., 0., 0., 0.], dtype=float32),\n",
              " array([0., 0., 1., 0.], dtype=float32),\n",
              " array([0., 0., 1., 0.], dtype=float32),\n",
              " array([0., 0., 1., 0.], dtype=float32),\n",
              " array([0., 0., 1., 0.], dtype=float32),\n",
              " array([0., 0., 1., 0.], dtype=float32),\n",
              " array([0., 0., 1., 0.], dtype=float32),\n",
              " array([0., 0., 1., 0.], dtype=float32),\n",
              " array([0., 0., 1., 0.], dtype=float32),\n",
              " array([0., 0., 1., 0.], dtype=float32),\n",
              " array([0., 0., 1., 0.], dtype=float32),\n",
              " array([0., 0., 1., 0.], dtype=float32),\n",
              " array([0., 0., 1., 0.], dtype=float32),\n",
              " array([0., 0., 1., 0.], dtype=float32),\n",
              " array([0., 0., 1., 0.], dtype=float32),\n",
              " array([1., 0., 0., 0.], dtype=float32),\n",
              " array([0., 0., 1., 0.], dtype=float32),\n",
              " array([0., 0., 1., 0.], dtype=float32),\n",
              " array([0., 0., 1., 0.], dtype=float32),\n",
              " array([1., 0., 0., 0.], dtype=float32),\n",
              " array([0., 0., 1., 0.], dtype=float32),\n",
              " array([0., 0., 1., 0.], dtype=float32),\n",
              " array([0., 0., 1., 0.], dtype=float32),\n",
              " array([0., 0., 1., 0.], dtype=float32),\n",
              " array([0., 0., 1., 0.], dtype=float32),\n",
              " array([0., 0., 1., 0.], dtype=float32),\n",
              " array([0., 0., 1., 0.], dtype=float32),\n",
              " array([0., 0., 1., 0.], dtype=float32),\n",
              " array([0., 0., 1., 0.], dtype=float32),\n",
              " array([0., 0., 1., 0.], dtype=float32),\n",
              " array([0., 0., 1., 0.], dtype=float32),\n",
              " array([0., 1., 0., 0.], dtype=float32),\n",
              " array([0., 0., 1., 0.], dtype=float32),\n",
              " array([0., 0., 1., 0.], dtype=float32),\n",
              " array([0., 0., 1., 0.], dtype=float32),\n",
              " array([0., 1., 0., 0.], dtype=float32),\n",
              " array([0., 0., 1., 0.], dtype=float32),\n",
              " array([0., 0., 1., 0.], dtype=float32),\n",
              " array([0., 0., 1., 0.], dtype=float32),\n",
              " array([0., 0., 1., 0.], dtype=float32),\n",
              " array([0., 0., 1., 0.], dtype=float32),\n",
              " array([0., 0., 1., 0.], dtype=float32),\n",
              " array([0., 0., 1., 0.], dtype=float32),\n",
              " array([1., 0., 0., 0.], dtype=float32),\n",
              " array([0., 0., 1., 0.], dtype=float32),\n",
              " array([0., 0., 1., 0.], dtype=float32),\n",
              " array([1., 0., 0., 0.], dtype=float32),\n",
              " array([1., 0., 0., 0.], dtype=float32),\n",
              " array([0., 0., 1., 0.], dtype=float32),\n",
              " array([1., 0., 0., 0.], dtype=float32),\n",
              " array([0., 0., 1., 0.], dtype=float32),\n",
              " array([0., 0., 1., 0.], dtype=float32),\n",
              " array([0., 0., 1., 0.], dtype=float32),\n",
              " array([0., 0., 1., 0.], dtype=float32),\n",
              " array([0., 0., 1., 0.], dtype=float32),\n",
              " array([0., 0., 0., 1.], dtype=float32),\n",
              " array([0., 0., 1., 0.], dtype=float32),\n",
              " array([0., 0., 1., 0.], dtype=float32),\n",
              " array([0., 0., 1., 0.], dtype=float32),\n",
              " array([1., 0., 0., 0.], dtype=float32),\n",
              " array([0., 0., 1., 0.], dtype=float32),\n",
              " array([0., 0., 0., 1.], dtype=float32),\n",
              " array([0., 0., 0., 1.], dtype=float32),\n",
              " array([0., 0., 1., 0.], dtype=float32),\n",
              " array([0., 0., 1., 0.], dtype=float32),\n",
              " array([0., 0., 1., 0.], dtype=float32),\n",
              " array([0., 0., 0., 1.], dtype=float32),\n",
              " array([0., 1., 0., 0.], dtype=float32),\n",
              " array([0., 0., 1., 0.], dtype=float32),\n",
              " array([0., 0., 0., 1.], dtype=float32),\n",
              " array([0., 0., 1., 0.], dtype=float32),\n",
              " array([1., 0., 0., 0.], dtype=float32),\n",
              " array([0., 0., 1., 0.], dtype=float32),\n",
              " array([0., 0., 1., 0.], dtype=float32),\n",
              " array([0., 0., 0., 1.], dtype=float32),\n",
              " array([0., 0., 1., 0.], dtype=float32),\n",
              " array([0., 0., 0., 1.], dtype=float32),\n",
              " array([0., 0., 1., 0.], dtype=float32),\n",
              " array([0., 0., 0., 1.], dtype=float32),\n",
              " array([1., 0., 0., 0.], dtype=float32),\n",
              " array([0., 0., 1., 0.], dtype=float32),\n",
              " array([0., 0., 0., 1.], dtype=float32),\n",
              " array([0., 0., 1., 0.], dtype=float32),\n",
              " array([0., 0., 0., 1.], dtype=float32),\n",
              " array([0., 0., 1., 0.], dtype=float32),\n",
              " array([0., 0., 1., 0.], dtype=float32),\n",
              " array([0., 0., 1., 0.], dtype=float32),\n",
              " array([0., 0., 1., 0.], dtype=float32),\n",
              " array([1., 0., 0., 0.], dtype=float32),\n",
              " array([0., 0., 1., 0.], dtype=float32),\n",
              " array([1., 0., 0., 0.], dtype=float32),\n",
              " array([0., 0., 1., 0.], dtype=float32),\n",
              " array([0., 0., 1., 0.], dtype=float32),\n",
              " array([0., 0., 1., 0.], dtype=float32),\n",
              " array([0., 0., 1., 0.], dtype=float32),\n",
              " array([0., 0., 1., 0.], dtype=float32),\n",
              " array([0., 0., 0., 1.], dtype=float32),\n",
              " array([0., 0., 1., 0.], dtype=float32),\n",
              " array([0., 0., 0., 1.], dtype=float32),\n",
              " array([0., 0., 1., 0.], dtype=float32),\n",
              " array([0., 0., 1., 0.], dtype=float32),\n",
              " array([0., 0., 0., 1.], dtype=float32),\n",
              " array([0., 0., 1., 0.], dtype=float32),\n",
              " array([0., 1., 0., 0.], dtype=float32),\n",
              " array([0., 0., 1., 0.], dtype=float32),\n",
              " array([0., 0., 1., 0.], dtype=float32),\n",
              " array([0., 0., 1., 0.], dtype=float32),\n",
              " array([0., 0., 1., 0.], dtype=float32),\n",
              " array([0., 0., 1., 0.], dtype=float32),\n",
              " array([0., 0., 1., 0.], dtype=float32),\n",
              " array([0., 0., 1., 0.], dtype=float32),\n",
              " array([0., 0., 1., 0.], dtype=float32),\n",
              " array([1., 0., 0., 0.], dtype=float32),\n",
              " array([0., 0., 1., 0.], dtype=float32),\n",
              " array([0., 1., 0., 0.], dtype=float32),\n",
              " array([0., 0., 1., 0.], dtype=float32),\n",
              " array([0., 0., 0., 1.], dtype=float32),\n",
              " array([0., 0., 1., 0.], dtype=float32),\n",
              " array([0., 0., 1., 0.], dtype=float32),\n",
              " array([0., 0., 1., 0.], dtype=float32),\n",
              " array([0., 0., 1., 0.], dtype=float32),\n",
              " array([0., 0., 1., 0.], dtype=float32),\n",
              " array([0., 0., 0., 1.], dtype=float32),\n",
              " array([0., 0., 1., 0.], dtype=float32),\n",
              " array([0., 0., 1., 0.], dtype=float32),\n",
              " array([0., 0., 1., 0.], dtype=float32),\n",
              " array([0., 0., 1., 0.], dtype=float32),\n",
              " array([1., 0., 0., 0.], dtype=float32),\n",
              " array([0., 0., 1., 0.], dtype=float32),\n",
              " array([0., 0., 1., 0.], dtype=float32),\n",
              " array([0., 0., 1., 0.], dtype=float32),\n",
              " array([1., 0., 0., 0.], dtype=float32),\n",
              " array([0., 0., 1., 0.], dtype=float32),\n",
              " array([0., 0., 0., 1.], dtype=float32),\n",
              " array([0., 0., 1., 0.], dtype=float32),\n",
              " array([0., 0., 0., 1.], dtype=float32),\n",
              " array([0., 0., 1., 0.], dtype=float32),\n",
              " array([0., 1., 0., 0.], dtype=float32),\n",
              " array([0., 0., 1., 0.], dtype=float32),\n",
              " array([1., 0., 0., 0.], dtype=float32),\n",
              " array([0., 0., 1., 0.], dtype=float32),\n",
              " array([0., 0., 1., 0.], dtype=float32),\n",
              " array([0., 0., 1., 0.], dtype=float32),\n",
              " array([0., 0., 1., 0.], dtype=float32),\n",
              " array([0., 0., 0., 1.], dtype=float32),\n",
              " array([1., 0., 0., 0.], dtype=float32),\n",
              " array([0., 0., 0., 1.], dtype=float32),\n",
              " array([0., 0., 1., 0.], dtype=float32),\n",
              " array([0., 0., 1., 0.], dtype=float32),\n",
              " array([0., 0., 1., 0.], dtype=float32),\n",
              " array([0., 1., 0., 0.], dtype=float32),\n",
              " array([0., 0., 1., 0.], dtype=float32),\n",
              " array([1., 0., 0., 0.], dtype=float32),\n",
              " array([0., 0., 1., 0.], dtype=float32),\n",
              " array([0., 0., 1., 0.], dtype=float32),\n",
              " array([0., 0., 1., 0.], dtype=float32),\n",
              " array([0., 0., 0., 1.], dtype=float32),\n",
              " array([0., 0., 1., 0.], dtype=float32),\n",
              " array([0., 0., 1., 0.], dtype=float32),\n",
              " array([0., 0., 1., 0.], dtype=float32),\n",
              " array([0., 0., 1., 0.], dtype=float32),\n",
              " array([0., 1., 0., 0.], dtype=float32),\n",
              " array([0., 0., 1., 0.], dtype=float32),\n",
              " array([0., 0., 1., 0.], dtype=float32),\n",
              " array([1., 0., 0., 0.], dtype=float32),\n",
              " array([1., 0., 0., 0.], dtype=float32),\n",
              " array([0., 0., 0., 1.], dtype=float32),\n",
              " array([0., 0., 1., 0.], dtype=float32),\n",
              " array([0., 0., 1., 0.], dtype=float32),\n",
              " array([0., 1., 0., 0.], dtype=float32),\n",
              " array([0., 0., 1., 0.], dtype=float32),\n",
              " array([0., 0., 1., 0.], dtype=float32),\n",
              " array([0., 0., 0., 1.], dtype=float32),\n",
              " array([0., 0., 1., 0.], dtype=float32),\n",
              " array([0., 0., 1., 0.], dtype=float32),\n",
              " array([0., 0., 1., 0.], dtype=float32),\n",
              " array([0., 0., 1., 0.], dtype=float32),\n",
              " array([1., 0., 0., 0.], dtype=float32),\n",
              " array([0., 0., 1., 0.], dtype=float32),\n",
              " array([0., 0., 0., 1.], dtype=float32),\n",
              " array([1., 0., 0., 0.], dtype=float32),\n",
              " array([1., 0., 0., 0.], dtype=float32),\n",
              " array([1., 0., 0., 0.], dtype=float32),\n",
              " array([0., 0., 1., 0.], dtype=float32),\n",
              " array([0., 0., 1., 0.], dtype=float32),\n",
              " array([1., 0., 0., 0.], dtype=float32),\n",
              " array([1., 0., 0., 0.], dtype=float32),\n",
              " array([0., 0., 1., 0.], dtype=float32),\n",
              " array([0., 0., 1., 0.], dtype=float32),\n",
              " array([0., 0., 1., 0.], dtype=float32),\n",
              " array([1., 0., 0., 0.], dtype=float32),\n",
              " array([0., 1., 0., 0.], dtype=float32),\n",
              " array([0., 0., 1., 0.], dtype=float32),\n",
              " array([0., 0., 1., 0.], dtype=float32),\n",
              " array([0., 0., 1., 0.], dtype=float32),\n",
              " array([0., 0., 1., 0.], dtype=float32),\n",
              " array([0., 0., 1., 0.], dtype=float32),\n",
              " array([0., 0., 1., 0.], dtype=float32),\n",
              " array([0., 0., 1., 0.], dtype=float32),\n",
              " array([0., 0., 1., 0.], dtype=float32),\n",
              " array([0., 0., 1., 0.], dtype=float32),\n",
              " array([0., 1., 0., 0.], dtype=float32),\n",
              " array([0., 0., 1., 0.], dtype=float32),\n",
              " array([0., 0., 1., 0.], dtype=float32),\n",
              " array([1., 0., 0., 0.], dtype=float32),\n",
              " array([1., 0., 0., 0.], dtype=float32),\n",
              " array([0., 0., 0., 1.], dtype=float32),\n",
              " array([0., 0., 1., 0.], dtype=float32),\n",
              " array([1., 0., 0., 0.], dtype=float32),\n",
              " array([0., 0., 1., 0.], dtype=float32),\n",
              " array([1., 0., 0., 0.], dtype=float32),\n",
              " array([0., 0., 1., 0.], dtype=float32),\n",
              " array([0., 0., 1., 0.], dtype=float32),\n",
              " array([0., 1., 0., 0.], dtype=float32),\n",
              " array([0., 0., 1., 0.], dtype=float32),\n",
              " array([0., 0., 1., 0.], dtype=float32),\n",
              " array([0., 0., 1., 0.], dtype=float32),\n",
              " array([0., 1., 0., 0.], dtype=float32),\n",
              " array([0., 0., 1., 0.], dtype=float32),\n",
              " array([0., 0., 1., 0.], dtype=float32),\n",
              " array([0., 0., 1., 0.], dtype=float32),\n",
              " array([0., 0., 1., 0.], dtype=float32),\n",
              " array([0., 0., 0., 1.], dtype=float32),\n",
              " array([1., 0., 0., 0.], dtype=float32),\n",
              " array([0., 0., 1., 0.], dtype=float32),\n",
              " array([0., 0., 0., 1.], dtype=float32),\n",
              " array([0., 0., 1., 0.], dtype=float32),\n",
              " array([0., 0., 1., 0.], dtype=float32),\n",
              " array([0., 0., 1., 0.], dtype=float32),\n",
              " array([0., 1., 0., 0.], dtype=float32),\n",
              " array([0., 0., 1., 0.], dtype=float32),\n",
              " array([1., 0., 0., 0.], dtype=float32),\n",
              " array([0., 0., 1., 0.], dtype=float32),\n",
              " array([0., 0., 1., 0.], dtype=float32),\n",
              " array([0., 0., 1., 0.], dtype=float32),\n",
              " array([0., 0., 1., 0.], dtype=float32),\n",
              " array([0., 0., 1., 0.], dtype=float32),\n",
              " array([0., 0., 1., 0.], dtype=float32),\n",
              " array([0., 0., 1., 0.], dtype=float32),\n",
              " array([0., 0., 1., 0.], dtype=float32),\n",
              " array([0., 1., 0., 0.], dtype=float32),\n",
              " array([0., 1., 0., 0.], dtype=float32),\n",
              " array([0., 0., 1., 0.], dtype=float32),\n",
              " array([1., 0., 0., 0.], dtype=float32),\n",
              " array([0., 0., 1., 0.], dtype=float32),\n",
              " array([1., 0., 0., 0.], dtype=float32),\n",
              " array([0., 0., 1., 0.], dtype=float32),\n",
              " array([0., 0., 1., 0.], dtype=float32),\n",
              " array([0., 0., 1., 0.], dtype=float32),\n",
              " array([0., 0., 1., 0.], dtype=float32),\n",
              " array([0., 0., 0., 1.], dtype=float32),\n",
              " array([0., 0., 1., 0.], dtype=float32),\n",
              " array([1., 0., 0., 0.], dtype=float32),\n",
              " array([0., 0., 1., 0.], dtype=float32),\n",
              " array([0., 0., 1., 0.], dtype=float32),\n",
              " array([0., 0., 1., 0.], dtype=float32),\n",
              " array([1., 0., 0., 0.], dtype=float32),\n",
              " array([0., 0., 1., 0.], dtype=float32),\n",
              " array([0., 0., 1., 0.], dtype=float32),\n",
              " array([0., 0., 1., 0.], dtype=float32),\n",
              " array([0., 0., 0., 1.], dtype=float32),\n",
              " array([0., 0., 1., 0.], dtype=float32),\n",
              " array([0., 0., 1., 0.], dtype=float32),\n",
              " array([0., 0., 1., 0.], dtype=float32),\n",
              " array([0., 0., 1., 0.], dtype=float32),\n",
              " array([0., 0., 1., 0.], dtype=float32),\n",
              " array([0., 0., 1., 0.], dtype=float32),\n",
              " array([0., 0., 1., 0.], dtype=float32),\n",
              " array([0., 0., 1., 0.], dtype=float32),\n",
              " array([0., 0., 1., 0.], dtype=float32),\n",
              " array([0., 0., 1., 0.], dtype=float32),\n",
              " array([0., 0., 1., 0.], dtype=float32),\n",
              " array([0., 0., 1., 0.], dtype=float32),\n",
              " array([1., 0., 0., 0.], dtype=float32),\n",
              " array([0., 0., 1., 0.], dtype=float32),\n",
              " array([0., 0., 1., 0.], dtype=float32),\n",
              " array([1., 0., 0., 0.], dtype=float32),\n",
              " array([0., 1., 0., 0.], dtype=float32),\n",
              " array([0., 0., 1., 0.], dtype=float32),\n",
              " array([1., 0., 0., 0.], dtype=float32),\n",
              " array([0., 0., 1., 0.], dtype=float32),\n",
              " array([1., 0., 0., 0.], dtype=float32),\n",
              " array([0., 0., 1., 0.], dtype=float32),\n",
              " array([0., 0., 0., 1.], dtype=float32),\n",
              " array([0., 0., 1., 0.], dtype=float32),\n",
              " array([0., 0., 1., 0.], dtype=float32),\n",
              " array([0., 0., 1., 0.], dtype=float32),\n",
              " array([0., 0., 1., 0.], dtype=float32),\n",
              " array([0., 0., 1., 0.], dtype=float32),\n",
              " array([0., 0., 1., 0.], dtype=float32),\n",
              " array([1., 0., 0., 0.], dtype=float32),\n",
              " array([0., 1., 0., 0.], dtype=float32),\n",
              " array([1., 0., 0., 0.], dtype=float32),\n",
              " array([0., 0., 1., 0.], dtype=float32),\n",
              " array([0., 0., 1., 0.], dtype=float32),\n",
              " array([1., 0., 0., 0.], dtype=float32),\n",
              " array([0., 0., 1., 0.], dtype=float32),\n",
              " array([0., 1., 0., 0.], dtype=float32),\n",
              " array([0., 0., 1., 0.], dtype=float32),\n",
              " array([0., 0., 0., 1.], dtype=float32),\n",
              " array([0., 0., 1., 0.], dtype=float32),\n",
              " array([0., 1., 0., 0.], dtype=float32),\n",
              " array([0., 0., 1., 0.], dtype=float32),\n",
              " array([0., 0., 1., 0.], dtype=float32),\n",
              " array([0., 0., 1., 0.], dtype=float32),\n",
              " array([1., 0., 0., 0.], dtype=float32),\n",
              " array([0., 0., 1., 0.], dtype=float32),\n",
              " array([0., 0., 1., 0.], dtype=float32),\n",
              " array([0., 0., 1., 0.], dtype=float32),\n",
              " array([0., 0., 1., 0.], dtype=float32),\n",
              " array([0., 0., 1., 0.], dtype=float32),\n",
              " array([0., 0., 1., 0.], dtype=float32),\n",
              " array([0., 0., 1., 0.], dtype=float32),\n",
              " array([0., 0., 1., 0.], dtype=float32),\n",
              " array([0., 1., 0., 0.], dtype=float32),\n",
              " array([1., 0., 0., 0.], dtype=float32),\n",
              " array([0., 1., 0., 0.], dtype=float32),\n",
              " array([0., 0., 1., 0.], dtype=float32),\n",
              " array([0., 0., 1., 0.], dtype=float32),\n",
              " array([0., 0., 1., 0.], dtype=float32),\n",
              " array([0., 0., 1., 0.], dtype=float32),\n",
              " array([0., 0., 1., 0.], dtype=float32),\n",
              " array([0., 1., 0., 0.], dtype=float32),\n",
              " array([0., 0., 1., 0.], dtype=float32),\n",
              " array([0., 0., 0., 1.], dtype=float32),\n",
              " array([1., 0., 0., 0.], dtype=float32),\n",
              " array([0., 0., 1., 0.], dtype=float32),\n",
              " array([0., 0., 1., 0.], dtype=float32),\n",
              " array([0., 0., 1., 0.], dtype=float32),\n",
              " array([1., 0., 0., 0.], dtype=float32),\n",
              " array([0., 0., 1., 0.], dtype=float32),\n",
              " array([0., 0., 1., 0.], dtype=float32),\n",
              " array([1., 0., 0., 0.], dtype=float32),\n",
              " array([0., 0., 1., 0.], dtype=float32),\n",
              " array([0., 0., 1., 0.], dtype=float32),\n",
              " array([0., 0., 1., 0.], dtype=float32),\n",
              " array([0., 0., 1., 0.], dtype=float32),\n",
              " array([0., 0., 1., 0.], dtype=float32),\n",
              " array([0., 0., 1., 0.], dtype=float32),\n",
              " array([0., 0., 0., 1.], dtype=float32),\n",
              " array([0., 0., 1., 0.], dtype=float32),\n",
              " array([0., 0., 1., 0.], dtype=float32),\n",
              " array([0., 0., 1., 0.], dtype=float32),\n",
              " array([0., 0., 0., 1.], dtype=float32),\n",
              " array([0., 0., 1., 0.], dtype=float32),\n",
              " array([0., 0., 1., 0.], dtype=float32),\n",
              " array([0., 0., 1., 0.], dtype=float32),\n",
              " array([0., 0., 1., 0.], dtype=float32),\n",
              " array([0., 0., 1., 0.], dtype=float32),\n",
              " array([0., 0., 1., 0.], dtype=float32),\n",
              " array([0., 0., 1., 0.], dtype=float32),\n",
              " array([0., 0., 1., 0.], dtype=float32),\n",
              " array([0., 0., 1., 0.], dtype=float32),\n",
              " array([0., 0., 1., 0.], dtype=float32),\n",
              " array([0., 0., 1., 0.], dtype=float32),\n",
              " array([0., 0., 1., 0.], dtype=float32),\n",
              " array([0., 0., 1., 0.], dtype=float32),\n",
              " array([0., 0., 1., 0.], dtype=float32),\n",
              " array([0., 0., 1., 0.], dtype=float32),\n",
              " array([0., 0., 1., 0.], dtype=float32),\n",
              " array([0., 0., 0., 1.], dtype=float32),\n",
              " array([1., 0., 0., 0.], dtype=float32),\n",
              " array([0., 0., 1., 0.], dtype=float32),\n",
              " array([0., 0., 1., 0.], dtype=float32),\n",
              " array([0., 0., 1., 0.], dtype=float32),\n",
              " array([0., 0., 1., 0.], dtype=float32),\n",
              " array([0., 0., 1., 0.], dtype=float32),\n",
              " array([0., 1., 0., 0.], dtype=float32),\n",
              " array([0., 0., 1., 0.], dtype=float32),\n",
              " array([0., 1., 0., 0.], dtype=float32),\n",
              " array([0., 0., 1., 0.], dtype=float32),\n",
              " array([0., 0., 1., 0.], dtype=float32),\n",
              " array([0., 0., 0., 1.], dtype=float32),\n",
              " array([0., 0., 1., 0.], dtype=float32),\n",
              " array([1., 0., 0., 0.], dtype=float32),\n",
              " array([0., 0., 0., 1.], dtype=float32),\n",
              " array([0., 0., 1., 0.], dtype=float32),\n",
              " array([0., 0., 1., 0.], dtype=float32),\n",
              " array([0., 0., 1., 0.], dtype=float32),\n",
              " array([0., 0., 1., 0.], dtype=float32),\n",
              " array([0., 0., 1., 0.], dtype=float32),\n",
              " array([0., 0., 1., 0.], dtype=float32),\n",
              " array([0., 0., 1., 0.], dtype=float32),\n",
              " array([0., 0., 1., 0.], dtype=float32),\n",
              " array([0., 0., 1., 0.], dtype=float32),\n",
              " array([0., 0., 1., 0.], dtype=float32),\n",
              " array([0., 0., 1., 0.], dtype=float32),\n",
              " array([0., 0., 1., 0.], dtype=float32),\n",
              " array([0., 0., 1., 0.], dtype=float32),\n",
              " array([0., 0., 1., 0.], dtype=float32),\n",
              " array([0., 0., 1., 0.], dtype=float32),\n",
              " array([0., 0., 0., 1.], dtype=float32),\n",
              " array([0., 0., 1., 0.], dtype=float32),\n",
              " array([0., 0., 0., 1.], dtype=float32),\n",
              " array([0., 0., 1., 0.], dtype=float32),\n",
              " array([0., 1., 0., 0.], dtype=float32),\n",
              " array([0., 0., 1., 0.], dtype=float32),\n",
              " array([0., 0., 1., 0.], dtype=float32),\n",
              " array([0., 0., 1., 0.], dtype=float32),\n",
              " array([1., 0., 0., 0.], dtype=float32),\n",
              " array([0., 0., 1., 0.], dtype=float32),\n",
              " array([0., 0., 1., 0.], dtype=float32),\n",
              " array([0., 0., 1., 0.], dtype=float32),\n",
              " array([0., 0., 1., 0.], dtype=float32),\n",
              " array([1., 0., 0., 0.], dtype=float32),\n",
              " array([0., 0., 1., 0.], dtype=float32),\n",
              " array([0., 0., 1., 0.], dtype=float32),\n",
              " array([0., 0., 1., 0.], dtype=float32),\n",
              " array([1., 0., 0., 0.], dtype=float32),\n",
              " array([0., 0., 1., 0.], dtype=float32),\n",
              " array([0., 0., 1., 0.], dtype=float32),\n",
              " array([0., 0., 1., 0.], dtype=float32),\n",
              " array([0., 0., 1., 0.], dtype=float32),\n",
              " array([1., 0., 0., 0.], dtype=float32),\n",
              " array([0., 0., 1., 0.], dtype=float32),\n",
              " array([0., 0., 1., 0.], dtype=float32),\n",
              " array([0., 0., 1., 0.], dtype=float32),\n",
              " array([0., 0., 1., 0.], dtype=float32),\n",
              " array([1., 0., 0., 0.], dtype=float32),\n",
              " array([0., 0., 1., 0.], dtype=float32),\n",
              " array([0., 0., 1., 0.], dtype=float32),\n",
              " array([0., 0., 1., 0.], dtype=float32),\n",
              " array([0., 0., 1., 0.], dtype=float32),\n",
              " array([0., 1., 0., 0.], dtype=float32),\n",
              " array([0., 0., 1., 0.], dtype=float32),\n",
              " array([0., 0., 1., 0.], dtype=float32),\n",
              " array([0., 0., 1., 0.], dtype=float32),\n",
              " array([0., 0., 1., 0.], dtype=float32),\n",
              " array([1., 0., 0., 0.], dtype=float32),\n",
              " array([0., 0., 0., 1.], dtype=float32),\n",
              " array([0., 0., 1., 0.], dtype=float32),\n",
              " array([0., 0., 1., 0.], dtype=float32),\n",
              " array([0., 0., 0., 1.], dtype=float32),\n",
              " array([0., 0., 0., 1.], dtype=float32),\n",
              " array([0., 0., 1., 0.], dtype=float32),\n",
              " array([1., 0., 0., 0.], dtype=float32),\n",
              " array([0., 0., 1., 0.], dtype=float32),\n",
              " array([0., 0., 1., 0.], dtype=float32),\n",
              " array([0., 0., 1., 0.], dtype=float32),\n",
              " array([0., 0., 1., 0.], dtype=float32),\n",
              " array([1., 0., 0., 0.], dtype=float32),\n",
              " array([0., 0., 1., 0.], dtype=float32),\n",
              " array([0., 0., 1., 0.], dtype=float32),\n",
              " array([0., 0., 1., 0.], dtype=float32),\n",
              " array([0., 0., 1., 0.], dtype=float32),\n",
              " array([0., 0., 1., 0.], dtype=float32),\n",
              " array([0., 0., 1., 0.], dtype=float32),\n",
              " array([1., 0., 0., 0.], dtype=float32),\n",
              " array([0., 0., 1., 0.], dtype=float32),\n",
              " array([0., 0., 0., 1.], dtype=float32),\n",
              " array([0., 0., 1., 0.], dtype=float32),\n",
              " array([0., 0., 1., 0.], dtype=float32),\n",
              " array([0., 0., 0., 1.], dtype=float32),\n",
              " array([0., 0., 1., 0.], dtype=float32),\n",
              " array([0., 0., 1., 0.], dtype=float32),\n",
              " array([0., 0., 1., 0.], dtype=float32),\n",
              " array([0., 0., 1., 0.], dtype=float32),\n",
              " array([0., 0., 1., 0.], dtype=float32),\n",
              " array([0., 0., 1., 0.], dtype=float32),\n",
              " array([1., 0., 0., 0.], dtype=float32),\n",
              " array([0., 0., 1., 0.], dtype=float32),\n",
              " array([1., 0., 0., 0.], dtype=float32),\n",
              " array([0., 0., 1., 0.], dtype=float32),\n",
              " array([0., 0., 1., 0.], dtype=float32),\n",
              " array([0., 0., 1., 0.], dtype=float32),\n",
              " array([1., 0., 0., 0.], dtype=float32),\n",
              " array([0., 0., 1., 0.], dtype=float32),\n",
              " array([0., 0., 0., 1.], dtype=float32),\n",
              " array([0., 0., 1., 0.], dtype=float32),\n",
              " array([0., 0., 1., 0.], dtype=float32),\n",
              " array([0., 0., 1., 0.], dtype=float32),\n",
              " array([1., 0., 0., 0.], dtype=float32),\n",
              " array([0., 0., 1., 0.], dtype=float32),\n",
              " array([0., 0., 1., 0.], dtype=float32),\n",
              " array([0., 0., 1., 0.], dtype=float32),\n",
              " array([0., 0., 1., 0.], dtype=float32),\n",
              " array([0., 0., 1., 0.], dtype=float32),\n",
              " array([1., 0., 0., 0.], dtype=float32),\n",
              " array([0., 0., 1., 0.], dtype=float32),\n",
              " array([0., 0., 1., 0.], dtype=float32),\n",
              " array([0., 1., 0., 0.], dtype=float32),\n",
              " array([0., 0., 0., 1.], dtype=float32),\n",
              " array([0., 0., 1., 0.], dtype=float32),\n",
              " array([0., 0., 1., 0.], dtype=float32),\n",
              " array([0., 0., 1., 0.], dtype=float32),\n",
              " array([0., 0., 1., 0.], dtype=float32),\n",
              " array([0., 0., 0., 1.], dtype=float32),\n",
              " array([0., 0., 1., 0.], dtype=float32),\n",
              " array([0., 0., 1., 0.], dtype=float32),\n",
              " array([0., 0., 1., 0.], dtype=float32),\n",
              " array([0., 0., 1., 0.], dtype=float32),\n",
              " array([0., 0., 1., 0.], dtype=float32),\n",
              " array([0., 0., 1., 0.], dtype=float32),\n",
              " array([0., 0., 1., 0.], dtype=float32),\n",
              " array([0., 0., 1., 0.], dtype=float32),\n",
              " array([1., 0., 0., 0.], dtype=float32),\n",
              " array([0., 0., 1., 0.], dtype=float32),\n",
              " array([0., 0., 0., 1.], dtype=float32),\n",
              " array([0., 1., 0., 0.], dtype=float32),\n",
              " array([0., 0., 1., 0.], dtype=float32),\n",
              " array([0., 0., 1., 0.], dtype=float32),\n",
              " array([0., 0., 0., 1.], dtype=float32),\n",
              " array([0., 0., 1., 0.], dtype=float32),\n",
              " array([0., 0., 0., 1.], dtype=float32),\n",
              " array([0., 0., 1., 0.], dtype=float32),\n",
              " array([0., 0., 1., 0.], dtype=float32),\n",
              " array([0., 0., 1., 0.], dtype=float32),\n",
              " array([0., 0., 1., 0.], dtype=float32),\n",
              " array([0., 0., 1., 0.], dtype=float32),\n",
              " array([0., 0., 1., 0.], dtype=float32),\n",
              " array([1., 0., 0., 0.], dtype=float32),\n",
              " array([1., 0., 0., 0.], dtype=float32),\n",
              " array([0., 0., 1., 0.], dtype=float32),\n",
              " array([1., 0., 0., 0.], dtype=float32),\n",
              " array([0., 0., 0., 1.], dtype=float32),\n",
              " array([0., 0., 0., 1.], dtype=float32),\n",
              " array([0., 0., 1., 0.], dtype=float32),\n",
              " array([0., 0., 1., 0.], dtype=float32),\n",
              " array([0., 0., 1., 0.], dtype=float32),\n",
              " array([0., 0., 1., 0.], dtype=float32),\n",
              " array([0., 0., 1., 0.], dtype=float32),\n",
              " array([0., 0., 1., 0.], dtype=float32),\n",
              " array([1., 0., 0., 0.], dtype=float32),\n",
              " array([0., 0., 1., 0.], dtype=float32),\n",
              " array([0., 0., 1., 0.], dtype=float32),\n",
              " array([0., 0., 1., 0.], dtype=float32),\n",
              " array([0., 0., 1., 0.], dtype=float32),\n",
              " array([0., 0., 1., 0.], dtype=float32),\n",
              " array([0., 1., 0., 0.], dtype=float32),\n",
              " array([0., 0., 1., 0.], dtype=float32),\n",
              " array([0., 0., 1., 0.], dtype=float32),\n",
              " array([0., 0., 1., 0.], dtype=float32),\n",
              " array([0., 0., 0., 1.], dtype=float32),\n",
              " array([0., 0., 0., 1.], dtype=float32),\n",
              " array([0., 0., 0., 1.], dtype=float32),\n",
              " array([0., 0., 1., 0.], dtype=float32),\n",
              " array([0., 0., 0., 1.], dtype=float32),\n",
              " array([0., 0., 1., 0.], dtype=float32),\n",
              " array([0., 0., 1., 0.], dtype=float32),\n",
              " array([0., 0., 1., 0.], dtype=float32),\n",
              " array([0., 0., 1., 0.], dtype=float32),\n",
              " array([0., 0., 1., 0.], dtype=float32),\n",
              " array([1., 0., 0., 0.], dtype=float32),\n",
              " array([0., 0., 1., 0.], dtype=float32),\n",
              " array([1., 0., 0., 0.], dtype=float32),\n",
              " array([0., 0., 1., 0.], dtype=float32),\n",
              " array([0., 0., 1., 0.], dtype=float32),\n",
              " array([0., 0., 1., 0.], dtype=float32),\n",
              " array([0., 0., 1., 0.], dtype=float32),\n",
              " array([0., 0., 1., 0.], dtype=float32),\n",
              " array([0., 0., 1., 0.], dtype=float32),\n",
              " array([0., 0., 1., 0.], dtype=float32),\n",
              " array([0., 0., 1., 0.], dtype=float32),\n",
              " array([0., 0., 1., 0.], dtype=float32),\n",
              " array([1., 0., 0., 0.], dtype=float32),\n",
              " array([1., 0., 0., 0.], dtype=float32),\n",
              " array([0., 0., 1., 0.], dtype=float32),\n",
              " array([0., 0., 1., 0.], dtype=float32),\n",
              " array([0., 0., 1., 0.], dtype=float32),\n",
              " array([0., 0., 1., 0.], dtype=float32),\n",
              " array([0., 1., 0., 0.], dtype=float32),\n",
              " array([0., 0., 1., 0.], dtype=float32),\n",
              " array([1., 0., 0., 0.], dtype=float32),\n",
              " array([0., 0., 1., 0.], dtype=float32),\n",
              " array([0., 0., 1., 0.], dtype=float32),\n",
              " array([0., 0., 1., 0.], dtype=float32),\n",
              " array([0., 0., 1., 0.], dtype=float32),\n",
              " array([1., 0., 0., 0.], dtype=float32),\n",
              " array([0., 0., 1., 0.], dtype=float32),\n",
              " array([0., 0., 1., 0.], dtype=float32),\n",
              " array([0., 0., 1., 0.], dtype=float32),\n",
              " array([1., 0., 0., 0.], dtype=float32),\n",
              " array([0., 0., 0., 1.], dtype=float32),\n",
              " array([1., 0., 0., 0.], dtype=float32),\n",
              " array([0., 0., 1., 0.], dtype=float32),\n",
              " array([0., 0., 1., 0.], dtype=float32),\n",
              " array([0., 0., 1., 0.], dtype=float32),\n",
              " array([0., 0., 1., 0.], dtype=float32),\n",
              " array([0., 0., 1., 0.], dtype=float32),\n",
              " array([0., 0., 1., 0.], dtype=float32),\n",
              " array([0., 1., 0., 0.], dtype=float32),\n",
              " array([0., 0., 1., 0.], dtype=float32),\n",
              " array([0., 0., 1., 0.], dtype=float32),\n",
              " array([1., 0., 0., 0.], dtype=float32),\n",
              " array([0., 0., 1., 0.], dtype=float32),\n",
              " array([0., 0., 1., 0.], dtype=float32),\n",
              " array([0., 1., 0., 0.], dtype=float32),\n",
              " array([0., 0., 1., 0.], dtype=float32),\n",
              " array([0., 0., 1., 0.], dtype=float32),\n",
              " array([0., 0., 1., 0.], dtype=float32),\n",
              " array([0., 0., 1., 0.], dtype=float32),\n",
              " array([0., 0., 1., 0.], dtype=float32),\n",
              " array([0., 0., 1., 0.], dtype=float32),\n",
              " array([0., 0., 1., 0.], dtype=float32),\n",
              " array([0., 0., 1., 0.], dtype=float32),\n",
              " array([0., 0., 1., 0.], dtype=float32),\n",
              " array([1., 0., 0., 0.], dtype=float32),\n",
              " array([0., 0., 1., 0.], dtype=float32),\n",
              " array([0., 0., 1., 0.], dtype=float32),\n",
              " array([0., 0., 1., 0.], dtype=float32),\n",
              " array([0., 0., 1., 0.], dtype=float32),\n",
              " array([0., 0., 1., 0.], dtype=float32),\n",
              " array([0., 0., 0., 1.], dtype=float32),\n",
              " array([0., 0., 1., 0.], dtype=float32),\n",
              " array([0., 0., 1., 0.], dtype=float32),\n",
              " array([0., 0., 1., 0.], dtype=float32),\n",
              " array([0., 0., 1., 0.], dtype=float32),\n",
              " array([0., 0., 1., 0.], dtype=float32),\n",
              " array([0., 0., 1., 0.], dtype=float32)]"
            ]
          },
          "metadata": {},
          "execution_count": 26
        }
      ]
    },
    {
      "cell_type": "code",
      "source": [
        "train_y_one_hot=np.array(train_y_one_hot)\n",
        "test_y_one_hot=np.array(test_y_one_hot)\n",
        "print(train_y_one_hot)\n",
        "print(type(train_y_one_hot))"
      ],
      "metadata": {
        "colab": {
          "base_uri": "https://localhost:8080/"
        },
        "id": "_B2BF31jKO2J",
        "outputId": "7bb45f41-32fd-46dc-a354-090699a775bd"
      },
      "execution_count": null,
      "outputs": [
        {
          "output_type": "stream",
          "name": "stdout",
          "text": [
            "[[0. 0. 0. 1.]\n",
            " [0. 0. 0. 1.]\n",
            " [0. 0. 1. 0.]\n",
            " ...\n",
            " [0. 0. 1. 0.]\n",
            " [0. 0. 1. 0.]\n",
            " [0. 0. 1. 0.]]\n",
            "<class 'numpy.ndarray'>\n"
          ]
        }
      ]
    },
    {
      "cell_type": "code",
      "source": [
        "print(train_y_one_hot[1])\n",
        "print(type(train_y_one_hot))"
      ],
      "metadata": {
        "colab": {
          "base_uri": "https://localhost:8080/"
        },
        "id": "8q9Pd8mkxUEh",
        "outputId": "26c191dd-56a8-458e-a836-4a619717ade0"
      },
      "execution_count": null,
      "outputs": [
        {
          "output_type": "stream",
          "name": "stdout",
          "text": [
            "[0. 0. 0. 1.]\n",
            "<class 'numpy.ndarray'>\n"
          ]
        }
      ]
    },
    {
      "cell_type": "code",
      "source": [
        "test_y_one_hot"
      ],
      "metadata": {
        "colab": {
          "base_uri": "https://localhost:8080/"
        },
        "id": "SzD0NxDk2BdU",
        "outputId": "5a8d7957-57cf-4068-850b-84b8cf2b8165"
      },
      "execution_count": null,
      "outputs": [
        {
          "output_type": "execute_result",
          "data": {
            "text/plain": [
              "array([[1., 0., 0., 0.],\n",
              "       [0., 0., 1., 0.],\n",
              "       [0., 0., 1., 0.],\n",
              "       [0., 0., 1., 0.],\n",
              "       [0., 0., 1., 0.],\n",
              "       [0., 0., 1., 0.],\n",
              "       [0., 0., 1., 0.],\n",
              "       [1., 0., 0., 0.],\n",
              "       [0., 0., 1., 0.],\n",
              "       [1., 0., 0., 0.],\n",
              "       [0., 0., 1., 0.],\n",
              "       [0., 0., 0., 1.],\n",
              "       [0., 0., 1., 0.],\n",
              "       [0., 0., 1., 0.],\n",
              "       [0., 0., 1., 0.],\n",
              "       [0., 0., 1., 0.],\n",
              "       [0., 0., 0., 1.],\n",
              "       [0., 0., 1., 0.],\n",
              "       [0., 1., 0., 0.],\n",
              "       [0., 0., 1., 0.],\n",
              "       [0., 0., 1., 0.],\n",
              "       [1., 0., 0., 0.],\n",
              "       [1., 0., 0., 0.],\n",
              "       [0., 0., 1., 0.],\n",
              "       [0., 0., 0., 1.],\n",
              "       [1., 0., 0., 0.],\n",
              "       [0., 0., 1., 0.],\n",
              "       [0., 0., 1., 0.],\n",
              "       [0., 0., 1., 0.],\n",
              "       [1., 0., 0., 0.],\n",
              "       [0., 0., 1., 0.],\n",
              "       [0., 0., 1., 0.],\n",
              "       [0., 0., 1., 0.],\n",
              "       [0., 0., 1., 0.],\n",
              "       [1., 0., 0., 0.],\n",
              "       [0., 0., 1., 0.],\n",
              "       [0., 0., 1., 0.],\n",
              "       [0., 0., 1., 0.],\n",
              "       [0., 0., 1., 0.],\n",
              "       [0., 0., 1., 0.],\n",
              "       [0., 0., 1., 0.],\n",
              "       [0., 0., 1., 0.],\n",
              "       [0., 0., 1., 0.],\n",
              "       [0., 0., 1., 0.],\n",
              "       [1., 0., 0., 0.],\n",
              "       [0., 1., 0., 0.],\n",
              "       [1., 0., 0., 0.],\n",
              "       [0., 0., 1., 0.],\n",
              "       [0., 0., 1., 0.],\n",
              "       [0., 0., 0., 1.],\n",
              "       [0., 0., 0., 1.],\n",
              "       [0., 0., 1., 0.],\n",
              "       [0., 0., 1., 0.],\n",
              "       [1., 0., 0., 0.],\n",
              "       [0., 0., 1., 0.],\n",
              "       [0., 0., 1., 0.],\n",
              "       [0., 0., 0., 1.],\n",
              "       [0., 1., 0., 0.],\n",
              "       [1., 0., 0., 0.],\n",
              "       [0., 0., 1., 0.],\n",
              "       [0., 0., 1., 0.],\n",
              "       [0., 0., 1., 0.],\n",
              "       [0., 1., 0., 0.],\n",
              "       [0., 0., 1., 0.],\n",
              "       [0., 0., 1., 0.],\n",
              "       [0., 0., 1., 0.],\n",
              "       [0., 0., 1., 0.],\n",
              "       [0., 0., 1., 0.],\n",
              "       [0., 0., 1., 0.],\n",
              "       [0., 0., 1., 0.],\n",
              "       [0., 0., 1., 0.],\n",
              "       [1., 0., 0., 0.],\n",
              "       [1., 0., 0., 0.],\n",
              "       [0., 0., 1., 0.],\n",
              "       [0., 0., 1., 0.],\n",
              "       [0., 0., 1., 0.],\n",
              "       [0., 0., 1., 0.],\n",
              "       [0., 0., 1., 0.],\n",
              "       [0., 0., 1., 0.],\n",
              "       [0., 0., 1., 0.],\n",
              "       [0., 0., 1., 0.],\n",
              "       [0., 0., 1., 0.],\n",
              "       [0., 0., 1., 0.],\n",
              "       [1., 0., 0., 0.],\n",
              "       [0., 0., 0., 1.],\n",
              "       [0., 0., 1., 0.],\n",
              "       [0., 0., 1., 0.],\n",
              "       [1., 0., 0., 0.],\n",
              "       [1., 0., 0., 0.],\n",
              "       [0., 0., 0., 1.],\n",
              "       [0., 1., 0., 0.],\n",
              "       [0., 0., 1., 0.],\n",
              "       [0., 0., 1., 0.],\n",
              "       [0., 0., 0., 1.],\n",
              "       [1., 0., 0., 0.],\n",
              "       [0., 1., 0., 0.],\n",
              "       [0., 0., 1., 0.],\n",
              "       [1., 0., 0., 0.],\n",
              "       [0., 0., 1., 0.],\n",
              "       [1., 0., 0., 0.],\n",
              "       [0., 0., 0., 1.],\n",
              "       [0., 0., 1., 0.],\n",
              "       [0., 0., 0., 1.],\n",
              "       [0., 0., 1., 0.],\n",
              "       [0., 0., 1., 0.],\n",
              "       [0., 0., 1., 0.],\n",
              "       [0., 1., 0., 0.],\n",
              "       [0., 0., 1., 0.],\n",
              "       [1., 0., 0., 0.],\n",
              "       [0., 0., 1., 0.],\n",
              "       [0., 0., 1., 0.],\n",
              "       [0., 0., 1., 0.],\n",
              "       [0., 0., 0., 1.],\n",
              "       [0., 0., 1., 0.],\n",
              "       [1., 0., 0., 0.],\n",
              "       [1., 0., 0., 0.],\n",
              "       [0., 0., 1., 0.],\n",
              "       [0., 0., 1., 0.],\n",
              "       [0., 0., 1., 0.],\n",
              "       [1., 0., 0., 0.],\n",
              "       [0., 0., 0., 1.],\n",
              "       [0., 0., 0., 1.],\n",
              "       [0., 0., 1., 0.],\n",
              "       [0., 0., 1., 0.],\n",
              "       [0., 0., 1., 0.],\n",
              "       [0., 0., 1., 0.],\n",
              "       [1., 0., 0., 0.],\n",
              "       [0., 0., 1., 0.],\n",
              "       [0., 0., 1., 0.],\n",
              "       [0., 0., 1., 0.],\n",
              "       [0., 0., 1., 0.],\n",
              "       [0., 0., 1., 0.],\n",
              "       [0., 0., 1., 0.],\n",
              "       [0., 0., 1., 0.],\n",
              "       [0., 0., 0., 1.],\n",
              "       [1., 0., 0., 0.],\n",
              "       [0., 0., 0., 1.],\n",
              "       [0., 0., 1., 0.],\n",
              "       [0., 0., 1., 0.],\n",
              "       [1., 0., 0., 0.],\n",
              "       [1., 0., 0., 0.],\n",
              "       [0., 0., 1., 0.],\n",
              "       [0., 0., 1., 0.],\n",
              "       [0., 0., 1., 0.],\n",
              "       [0., 0., 1., 0.],\n",
              "       [0., 0., 1., 0.],\n",
              "       [0., 0., 1., 0.],\n",
              "       [0., 0., 1., 0.],\n",
              "       [1., 0., 0., 0.],\n",
              "       [0., 0., 1., 0.],\n",
              "       [0., 0., 1., 0.],\n",
              "       [0., 0., 1., 0.],\n",
              "       [0., 0., 1., 0.],\n",
              "       [0., 1., 0., 0.],\n",
              "       [0., 0., 1., 0.],\n",
              "       [0., 0., 0., 1.],\n",
              "       [0., 0., 1., 0.],\n",
              "       [1., 0., 0., 0.],\n",
              "       [0., 0., 1., 0.],\n",
              "       [0., 1., 0., 0.],\n",
              "       [1., 0., 0., 0.],\n",
              "       [0., 0., 1., 0.],\n",
              "       [0., 0., 1., 0.],\n",
              "       [0., 0., 1., 0.],\n",
              "       [1., 0., 0., 0.],\n",
              "       [1., 0., 0., 0.],\n",
              "       [0., 0., 1., 0.],\n",
              "       [0., 0., 1., 0.],\n",
              "       [0., 0., 1., 0.],\n",
              "       [0., 0., 1., 0.],\n",
              "       [0., 0., 1., 0.],\n",
              "       [0., 0., 1., 0.],\n",
              "       [0., 0., 1., 0.],\n",
              "       [0., 0., 1., 0.],\n",
              "       [0., 0., 1., 0.],\n",
              "       [0., 0., 1., 0.],\n",
              "       [0., 0., 1., 0.],\n",
              "       [0., 0., 1., 0.],\n",
              "       [0., 0., 1., 0.],\n",
              "       [1., 0., 0., 0.],\n",
              "       [0., 0., 1., 0.],\n",
              "       [0., 0., 1., 0.],\n",
              "       [1., 0., 0., 0.],\n",
              "       [0., 0., 1., 0.],\n",
              "       [0., 0., 1., 0.],\n",
              "       [0., 0., 1., 0.],\n",
              "       [0., 0., 1., 0.],\n",
              "       [0., 0., 1., 0.],\n",
              "       [0., 0., 1., 0.],\n",
              "       [0., 0., 1., 0.],\n",
              "       [0., 0., 0., 1.],\n",
              "       [0., 0., 1., 0.],\n",
              "       [0., 0., 1., 0.],\n",
              "       [0., 0., 1., 0.],\n",
              "       [0., 0., 1., 0.],\n",
              "       [0., 0., 0., 1.]], dtype=float32)"
            ]
          },
          "metadata": {},
          "execution_count": 29
        }
      ]
    },
    {
      "cell_type": "code",
      "source": [
        "classes=np.unique(test_y_one_hot)\n",
        "nclasses=len(classes)\n",
        "print(classes)\n",
        "print(nclasses)"
      ],
      "metadata": {
        "colab": {
          "base_uri": "https://localhost:8080/"
        },
        "id": "gL2XYx4CNnlI",
        "outputId": "3835962d-fef5-43c0-f68b-94c9215d8c62"
      },
      "execution_count": null,
      "outputs": [
        {
          "output_type": "stream",
          "name": "stdout",
          "text": [
            "[0. 1.]\n",
            "2\n"
          ]
        }
      ]
    },
    {
      "cell_type": "code",
      "source": [
        "test_y_one_hot[1]\n"
      ],
      "metadata": {
        "colab": {
          "base_uri": "https://localhost:8080/"
        },
        "id": "slp2aOzjNk0e",
        "outputId": "f5db1a66-36ff-499d-d970-463f039df1b6"
      },
      "execution_count": null,
      "outputs": [
        {
          "output_type": "execute_result",
          "data": {
            "text/plain": [
              "array([0., 0., 1., 0.], dtype=float32)"
            ]
          },
          "metadata": {},
          "execution_count": 31
        }
      ]
    },
    {
      "cell_type": "code",
      "source": [
        "train_y_one_hot[1]"
      ],
      "metadata": {
        "colab": {
          "base_uri": "https://localhost:8080/"
        },
        "id": "X6XAIVKBzFSJ",
        "outputId": "e3c6163a-1121-41fa-fed4-e678719cedcd"
      },
      "execution_count": null,
      "outputs": [
        {
          "output_type": "execute_result",
          "data": {
            "text/plain": [
              "array([0., 0., 0., 1.], dtype=float32)"
            ]
          },
          "metadata": {},
          "execution_count": 32
        }
      ]
    },
    {
      "cell_type": "code",
      "source": [
        "#model training task\n",
        "#split into validation and train\n",
        "from sklearn.model_selection import train_test_split\n",
        "train_x,valid_x,train_label,valid_label=train_test_split(train_x,train_y_one_hot,test_size=0.2,random_state=13)"
      ],
      "metadata": {
        "id": "a0fHKtF6zQZb"
      },
      "execution_count": null,
      "outputs": []
    },
    {
      "cell_type": "code",
      "source": [
        "train_x.shape,valid_x.shape,train_label.shape,valid_label.shape"
      ],
      "metadata": {
        "colab": {
          "base_uri": "https://localhost:8080/"
        },
        "id": "3ptp0Sk5zcXL",
        "outputId": "42903011-2879-4b46-ace5-3292fcf1467a"
      },
      "execution_count": null,
      "outputs": [
        {
          "output_type": "execute_result",
          "data": {
            "text/plain": [
              "((627, 256, 1600, 1), (157, 256, 1600, 1), (627, 4), (157, 4))"
            ]
          },
          "metadata": {},
          "execution_count": 34
        }
      ]
    },
    {
      "cell_type": "code",
      "source": [
        "batch_size=10#there is total 48000 image from that we are taking 64 student batch\n",
        "epochs=20\n",
        "num_classes=4\n"
      ],
      "metadata": {
        "id": "21BG9JD0zeTU"
      },
      "execution_count": null,
      "outputs": []
    },
    {
      "cell_type": "code",
      "source": [
        "#declaration of Sequential model\n",
        "model=tf.keras.Sequential()"
      ],
      "metadata": {
        "id": "g8EKp4jezoFw"
      },
      "execution_count": null,
      "outputs": []
    },
    {
      "cell_type": "code",
      "source": [
        "#1 hidden layer\n",
        "model.add(tf.keras.layers.Conv2D(32,(3,3),activation=\"linear\",padding=\"same\"))#valid->not any padding,same=same size \n",
        "model.add(tf.keras.layers.LeakyReLU(alpha=0.1))#alpha is slop of line in nagative part\n",
        "model.add(tf.keras.layers.MaxPooling2D(pool_size=(2,2),padding=\"same\"))"
      ],
      "metadata": {
        "id": "bLN2Q_6Czo6_"
      },
      "execution_count": null,
      "outputs": []
    },
    {
      "cell_type": "code",
      "source": [
        "#2 hidden layer\n",
        "model.add(tf.keras.layers.Conv2D(64,(3,3),activation=\"linear\",padding=\"same\"))#valid->not any padding,same=same size \n",
        "model.add(tf.keras.layers.LeakyReLU(alpha=0.1))#alpha is slop of line in nagative part\n",
        "model.add(tf.keras.layers.MaxPooling2D(pool_size=(2,2),padding=\"same\"))"
      ],
      "metadata": {
        "id": "sy_O6yCKzrkO"
      },
      "execution_count": null,
      "outputs": []
    },
    {
      "cell_type": "code",
      "source": [
        "#3 hidden layer\n",
        "model.add(tf.keras.layers.Conv2D(128,(3,3),activation=\"linear\",padding=\"same\"))#valid->not any padding,same=same size \n",
        "model.add(tf.keras.layers.LeakyReLU(alpha=0.1))#alpha is slop of line in nagative part\n",
        "model.add(tf.keras.layers.MaxPooling2D(pool_size=(2,2),padding=\"same\"))"
      ],
      "metadata": {
        "id": "0NZtq0a9zr4i"
      },
      "execution_count": null,
      "outputs": []
    },
    {
      "cell_type": "code",
      "source": [
        "model.add(tf.keras.layers.Flatten())"
      ],
      "metadata": {
        "id": "-3ugfDrnztOS"
      },
      "execution_count": null,
      "outputs": []
    },
    {
      "cell_type": "code",
      "source": [
        "model.add(tf.keras.layers.Dense(128,activation=\"linear\"))\n",
        "model.add(tf.keras.layers.LeakyReLU(alpha=0.1))\n",
        "#output final layer\n",
        "model.add(tf.keras.layers.Dense(num_classes,activation='softmax'))#softmax because we want probabbility of all 10 class"
      ],
      "metadata": {
        "id": "PAWYABeNzvN5"
      },
      "execution_count": null,
      "outputs": []
    },
    {
      "cell_type": "code",
      "source": [
        "model.compile(loss=tf.keras.losses.categorical_crossentropy,optimizer=tf.keras.optimizers.Adam(),metrics=['accuracy'])"
      ],
      "metadata": {
        "id": "C5nnEyTJzwr5"
      },
      "execution_count": null,
      "outputs": []
    },
    {
      "cell_type": "code",
      "source": [
        "print(valid_x.shape)\n",
        "print(valid_label.shape)"
      ],
      "metadata": {
        "colab": {
          "base_uri": "https://localhost:8080/"
        },
        "id": "ZLmtY0whMV7s",
        "outputId": "8d601f61-08ff-4c48-a6e5-57cb1dc52458"
      },
      "execution_count": null,
      "outputs": [
        {
          "output_type": "stream",
          "name": "stdout",
          "text": [
            "(157, 256, 1600, 1)\n",
            "(157, 4)\n"
          ]
        }
      ]
    },
    {
      "cell_type": "code",
      "source": [
        "model_train=model.fit(train_x,train_label,batch_size=10,epochs=10,verbose=1,validation_data=(valid_x,valid_label))#verbose is show process"
      ],
      "metadata": {
        "colab": {
          "base_uri": "https://localhost:8080/"
        },
        "id": "ROTUx4shzyMt",
        "outputId": "52baca52-c2cc-4b3f-865d-7d268e31dfc9"
      },
      "execution_count": null,
      "outputs": [
        {
          "output_type": "stream",
          "name": "stdout",
          "text": [
            "Epoch 1/10\n",
            "63/63 [==============================] - 37s 405ms/step - loss: 1.6357 - accuracy: 0.6858 - val_loss: 0.9312 - val_accuracy: 0.6752\n",
            "Epoch 2/10\n",
            "63/63 [==============================] - 24s 378ms/step - loss: 0.8322 - accuracy: 0.7193 - val_loss: 0.9196 - val_accuracy: 0.7006\n",
            "Epoch 3/10\n",
            "63/63 [==============================] - 25s 392ms/step - loss: 0.7699 - accuracy: 0.7193 - val_loss: 0.7294 - val_accuracy: 0.7325\n",
            "Epoch 4/10\n",
            "63/63 [==============================] - 24s 379ms/step - loss: 0.7567 - accuracy: 0.7241 - val_loss: 0.7680 - val_accuracy: 0.7261\n",
            "Epoch 5/10\n",
            "63/63 [==============================] - 24s 379ms/step - loss: 0.7043 - accuracy: 0.7368 - val_loss: 0.7567 - val_accuracy: 0.7261\n",
            "Epoch 6/10\n",
            "63/63 [==============================] - 24s 381ms/step - loss: 0.6603 - accuracy: 0.7416 - val_loss: 0.9199 - val_accuracy: 0.6815\n",
            "Epoch 7/10\n",
            "63/63 [==============================] - 24s 379ms/step - loss: 0.5431 - accuracy: 0.7847 - val_loss: 0.7564 - val_accuracy: 0.7006\n",
            "Epoch 8/10\n",
            "63/63 [==============================] - 24s 380ms/step - loss: 0.4463 - accuracy: 0.8485 - val_loss: 0.8107 - val_accuracy: 0.6752\n",
            "Epoch 9/10\n",
            "63/63 [==============================] - 24s 379ms/step - loss: 0.3932 - accuracy: 0.8660 - val_loss: 0.8904 - val_accuracy: 0.7006\n",
            "Epoch 10/10\n",
            "63/63 [==============================] - 24s 380ms/step - loss: 0.3169 - accuracy: 0.8820 - val_loss: 1.0832 - val_accuracy: 0.7197\n"
          ]
        }
      ]
    },
    {
      "cell_type": "code",
      "source": [
        "testing_evaluation=model.evaluate(test_x,test_y_one_hot)\n"
      ],
      "metadata": {
        "id": "yJSVNVawzz5-",
        "colab": {
          "base_uri": "https://localhost:8080/"
        },
        "outputId": "a2c56254-8abd-4699-c2da-9ce5c1fc6a43"
      },
      "execution_count": null,
      "outputs": [
        {
          "output_type": "stream",
          "name": "stdout",
          "text": [
            "7/7 [==============================] - 4s 350ms/step - loss: 1.1085 - accuracy: 0.6786\n"
          ]
        }
      ]
    },
    {
      "cell_type": "code",
      "source": [
        "testing_evaluation #loss,accuracy"
      ],
      "metadata": {
        "colab": {
          "base_uri": "https://localhost:8080/"
        },
        "id": "v3CQdElqBPLc",
        "outputId": "fe5b3efa-fa64-4965-f4ee-3870ba639687"
      },
      "execution_count": null,
      "outputs": [
        {
          "output_type": "execute_result",
          "data": {
            "text/plain": [
              "[1.1085442304611206, 0.6785714030265808]"
            ]
          },
          "metadata": {},
          "execution_count": 46
        }
      ]
    },
    {
      "cell_type": "code",
      "source": [
        "accuracy=model_train.history['accuracy']\n",
        "val_accuracy=model_train.history['val_accuracy']\n",
        "loss=model_train.history['loss']\n",
        "val_loss=model_train.history['val_loss']\n",
        "epochs=range(len(accuracy))"
      ],
      "metadata": {
        "id": "Xi6viWCfBQqO"
      },
      "execution_count": null,
      "outputs": []
    },
    {
      "cell_type": "code",
      "source": [
        "plt.plot(epochs,accuracy,label='training accuracy')\n",
        "plt.plot(epochs,val_accuracy,label='validation_accuracy')\n",
        "plt.title('epochs based on accuracy')\n",
        "plt.legend()\n",
        "plt.show()"
      ],
      "metadata": {
        "colab": {
          "base_uri": "https://localhost:8080/",
          "height": 281
        },
        "id": "Z8d_0g-RHl_M",
        "outputId": "34b40e3a-dc90-43c2-a31b-cc6f5897dd73"
      },
      "execution_count": null,
      "outputs": [
        {
          "output_type": "display_data",
          "data": {
            "text/plain": [
              "<Figure size 432x288 with 1 Axes>"
            ],
            "image/png": "[encoded data removed]"
          },
          "metadata": {
            "needs_background": "light"
          }
        }
      ]
    },
    {
      "cell_type": "code",
      "source": [
        "plt.plot(epochs,loss,label='training accuracy')\n",
        "plt.plot(epochs,val_loss,label='validation_accuracy')\n",
        "plt.title('epochs based on accuracy')\n",
        "plt.legend()\n",
        "plt.show()"
      ],
      "metadata": {
        "colab": {
          "base_uri": "https://localhost:8080/",
          "height": 281
        },
        "id": "VRHWPUbjHsce",
        "outputId": "ec30e358-b56f-4559-b3d6-ef65df9b46f7"
      },
      "execution_count": null,
      "outputs": [
        {
          "output_type": "display_data",
          "data": {
            "text/plain": [
              "<Figure size 432x288 with 1 Axes>"
            ],
            "image/png": "[encoded data removed]"
          },
          "metadata": {
            "needs_background": "light"
          }
        }
      ]
    },
    {
      "cell_type": "code",
      "source": [
        "#based on graph we can said that over model is overfitting\n",
        "#so we have to do regularization\n",
        "\n",
        "#declaration of Sequential model\n",
        "regmodel=tf.keras.Sequential()\n",
        "\n",
        "#1 hidden layer\n",
        "regmodel.add(tf.keras.layers.Conv2D(32,(3,3),activation=\"linear\",padding=\"same\"))#valid->not any padding,same=same size \n",
        "regmodel.add(tf.keras.layers.LeakyReLU(alpha=0.1))#alpha is slop of line in nagative part\n",
        "regmodel.add(tf.keras.layers.MaxPooling2D(pool_size=(2,2),padding=\"same\"))\n",
        "regmodel.add(tf.keras.layers.Dropout(0.25))\n",
        "\n",
        "#2 hidden layer\n",
        "regmodel.add(tf.keras.layers.Conv2D(64,(3,3),activation=\"linear\",padding=\"same\"))#valid->not any padding,same=same size \n",
        "regmodel.add(tf.keras.layers.LeakyReLU(alpha=0.1))#alpha is slop of line in nagative part\n",
        "regmodel.add(tf.keras.layers.MaxPooling2D(pool_size=(2,2),padding=\"same\"))\n",
        "regmodel.add(tf.keras.layers.Dropout(0.25))\n",
        "\n",
        "#3 hidden layer\n",
        "regmodel.add(tf.keras.layers.Conv2D(128,(3,3),activation=\"linear\",padding=\"same\"))#valid->not any padding,same=same size \n",
        "regmodel.add(tf.keras.layers.LeakyReLU(alpha=0.1))#alpha is slop of line in nagative part\n",
        "regmodel.add(tf.keras.layers.MaxPooling2D(pool_size=(2,2),padding=\"same\"))\n",
        "regmodel.add(tf.keras.layers.Dropout(0.40))\n",
        "regmodel.add(tf.keras.layers.Flatten())\n",
        "regmodel.add(tf.keras.layers.Dense(128,activation=\"linear\"))\n",
        "regmodel.add(tf.keras.layers.LeakyReLU(alpha=0.1))\n",
        "regmodel.add(tf.keras.layers.Dropout(0.3))\n",
        "\n",
        "#output final layer\n",
        "regmodel.add(tf.keras.layers.Dense(num_classes,activation='softmax'))#softmax because we want probabbility of all 10 class\n"
      ],
      "metadata": {
        "id": "p2LWoYHxHwps"
      },
      "execution_count": null,
      "outputs": []
    },
    {
      "cell_type": "code",
      "source": [
        "regmodel.compile(loss=tf.keras.losses.categorical_crossentropy,optimizer=tf.keras.optimizers.Adam(),metrics=['accuracy'])"
      ],
      "metadata": {
        "id": "ym7dYZ2vaBTq"
      },
      "execution_count": null,
      "outputs": []
    },
    {
      "cell_type": "code",
      "source": [
        "reg_model_train=regmodel.fit(train_x,train_label,batch_size=10,epochs=10,verbose=1,validation_data=(valid_x,valid_label))#verbose is show process"
      ],
      "metadata": {
        "colab": {
          "base_uri": "https://localhost:8080/"
        },
        "id": "i8MZmi3saD0h",
        "outputId": "39cc3ba1-80eb-41e5-9369-4a5cf480a544"
      },
      "execution_count": null,
      "outputs": [
        {
          "output_type": "stream",
          "name": "stdout",
          "text": [
            "Epoch 1/10\n",
            "63/63 [==============================] - 27s 404ms/step - loss: 4.5404 - accuracy: 0.6459 - val_loss: 1.6078 - val_accuracy: 0.6815\n",
            "Epoch 2/10\n",
            "63/63 [==============================] - 25s 401ms/step - loss: 0.9042 - accuracy: 0.7193 - val_loss: 1.7586 - val_accuracy: 0.6178\n",
            "Epoch 3/10\n",
            "63/63 [==============================] - 25s 405ms/step - loss: 0.8485 - accuracy: 0.7209 - val_loss: 1.7532 - val_accuracy: 0.6624\n",
            "Epoch 4/10\n",
            "63/63 [==============================] - 25s 404ms/step - loss: 0.8329 - accuracy: 0.7177 - val_loss: 1.2456 - val_accuracy: 0.5414\n",
            "Epoch 5/10\n",
            "63/63 [==============================] - 26s 405ms/step - loss: 0.8433 - accuracy: 0.7129 - val_loss: 1.8856 - val_accuracy: 0.6115\n",
            "Epoch 6/10\n",
            "63/63 [==============================] - 25s 404ms/step - loss: 0.8042 - accuracy: 0.7257 - val_loss: 0.7941 - val_accuracy: 0.7134\n",
            "Epoch 7/10\n",
            "63/63 [==============================] - 25s 403ms/step - loss: 0.7783 - accuracy: 0.7209 - val_loss: 1.1269 - val_accuracy: 0.3567\n",
            "Epoch 8/10\n",
            "63/63 [==============================] - 25s 404ms/step - loss: 0.8021 - accuracy: 0.7321 - val_loss: 1.0812 - val_accuracy: 0.3694\n",
            "Epoch 9/10\n",
            "63/63 [==============================] - 25s 404ms/step - loss: 0.7607 - accuracy: 0.7273 - val_loss: 0.7879 - val_accuracy: 0.7325\n",
            "Epoch 10/10\n",
            "63/63 [==============================] - 25s 403ms/step - loss: 0.7575 - accuracy: 0.7257 - val_loss: 0.8271 - val_accuracy: 0.6943\n"
          ]
        }
      ]
    },
    {
      "cell_type": "code",
      "source": [
        "testing_evaluation_rg=regmodel.evaluate(test_x,test_y_one_hot)"
      ],
      "metadata": {
        "colab": {
          "base_uri": "https://localhost:8080/"
        },
        "id": "0L71vLXkZSI0",
        "outputId": "8d5e4096-5025-4ba8-f8dc-bc32ab023378"
      },
      "execution_count": null,
      "outputs": [
        {
          "output_type": "stream",
          "name": "stdout",
          "text": [
            "7/7 [==============================] - 2s 260ms/step - loss: 0.8574 - accuracy: 0.6735\n"
          ]
        }
      ]
    },
    {
      "cell_type": "code",
      "source": [
        "testing_evaluation_rg #loss,accuracy"
      ],
      "metadata": {
        "colab": {
          "base_uri": "https://localhost:8080/"
        },
        "id": "K_a_PDA3ZVDq",
        "outputId": "26aedded-9915-4356-c886-a6eacb0f7d97"
      },
      "execution_count": null,
      "outputs": [
        {
          "output_type": "execute_result",
          "data": {
            "text/plain": [
              "[0.8574106097221375, 0.6734693646430969]"
            ]
          },
          "metadata": {},
          "execution_count": 58
        }
      ]
    },
    {
      "cell_type": "code",
      "source": [
        "reg_model_train.history"
      ],
      "metadata": {
        "colab": {
          "base_uri": "https://localhost:8080/"
        },
        "id": "zMLaEX2CbsPp",
        "outputId": "41f3cb73-106c-4326-cc67-a4820b5ac37c"
      },
      "execution_count": null,
      "outputs": [
        {
          "output_type": "execute_result",
          "data": {
            "text/plain": [
              "{'accuracy': [0.6459330320358276,\n",
              "  0.719298243522644,\n",
              "  0.720893144607544,\n",
              "  0.7177033424377441,\n",
              "  0.7129186391830444,\n",
              "  0.7256778478622437,\n",
              "  0.720893144607544,\n",
              "  0.7320573925971985,\n",
              "  0.7272727489471436,\n",
              "  0.7256778478622437],\n",
              " 'loss': [4.540424346923828,\n",
              "  0.9041980504989624,\n",
              "  0.8485251665115356,\n",
              "  0.8329122066497803,\n",
              "  0.8432847857475281,\n",
              "  0.8041791319847107,\n",
              "  0.7783027291297913,\n",
              "  0.802110493183136,\n",
              "  0.7607107758522034,\n",
              "  0.7575175762176514],\n",
              " 'val_accuracy': [0.6815286874771118,\n",
              "  0.6178343892097473,\n",
              "  0.662420392036438,\n",
              "  0.5414012670516968,\n",
              "  0.6114649772644043,\n",
              "  0.7133758068084717,\n",
              "  0.35668790340423584,\n",
              "  0.36942675709724426,\n",
              "  0.7324841022491455,\n",
              "  0.6942675113677979],\n",
              " 'val_loss': [1.607753038406372,\n",
              "  1.7585843801498413,\n",
              "  1.7532382011413574,\n",
              "  1.245573878288269,\n",
              "  1.8855507373809814,\n",
              "  0.794147789478302,\n",
              "  1.1268559694290161,\n",
              "  1.0811797380447388,\n",
              "  0.7879035472869873,\n",
              "  0.8270518183708191]}"
            ]
          },
          "metadata": {},
          "execution_count": 59
        }
      ]
    },
    {
      "cell_type": "code",
      "source": [
        "accuracy_reg=reg_model_train.history['accuracy']\n",
        "val_accuracy_reg=reg_model_train.history['val_accuracy']\n",
        "loss_reg=reg_model_train.history['loss']\n",
        "val_loss_reg=reg_model_train.history['val_loss']\n",
        "epochs_reg=range(len(accuracy_reg))"
      ],
      "metadata": {
        "id": "cWuo0q93buQ3"
      },
      "execution_count": null,
      "outputs": []
    },
    {
      "cell_type": "code",
      "source": [
        "plt.plot(epochs_reg,accuracy_reg,label='training accuracy')\n",
        "plt.plot(epochs_reg,val_accuracy_reg,label='validation_accuracy')\n",
        "plt.title('epochs based on accuracy')\n",
        "plt.legend()\n",
        "plt.show()"
      ],
      "metadata": {
        "colab": {
          "base_uri": "https://localhost:8080/",
          "height": 281
        },
        "id": "1N5M9T6FbyCy",
        "outputId": "58bbd42e-e8ed-4fbe-db73-c8e8d982e5e5"
      },
      "execution_count": null,
      "outputs": [
        {
          "output_type": "display_data",
          "data": {
            "text/plain": [
              "<Figure size 432x288 with 1 Axes>"
            ],
            "image/png": "[encoded data removed]"
          },
          "metadata": {
            "needs_background": "light"
          }
        }
      ]
    },
    {
      "cell_type": "code",
      "source": [
        "plt.plot(epochs_reg,loss_reg,label='training accuracy')\n",
        "plt.plot(epochs_reg,val_loss_reg,label='validation_accuracy')\n",
        "plt.title('epochs based on accuracy')\n",
        "plt.legend()\n",
        "plt.show()"
      ],
      "metadata": {
        "colab": {
          "base_uri": "https://localhost:8080/",
          "height": 281
        },
        "id": "OERNkIzabzqI",
        "outputId": "fe756890-efa1-48d4-d1ec-6667a47ec8ee"
      },
      "execution_count": null,
      "outputs": [
        {
          "output_type": "display_data",
          "data": {
            "text/plain": [
              "<Figure size 432x288 with 1 Axes>"
            ],
            "image/png": "[encoded data removed]"
          },
          "metadata": {
            "needs_background": "light"
          }
        }
      ]
    },
    {
      "cell_type": "code",
      "source": [
        ""
      ],
      "metadata": {
        "id": "dH7dlTxfb1xz"
      },
      "execution_count": null,
      "outputs": []
    }
  ]
}